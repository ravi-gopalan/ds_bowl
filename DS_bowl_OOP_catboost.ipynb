{
  "nbformat": 4,
  "nbformat_minor": 0,
  "metadata": {
    "colab": {
      "name": "DS_bowl_OOP_catboost.ipynb",
      "provenance": [],
      "include_colab_link": true
    },
    "kernelspec": {
      "name": "python3",
      "display_name": "Python 3"
    },
    "accelerator": "GPU"
  },
  "cells": [
    {
      "cell_type": "markdown",
      "metadata": {
        "id": "view-in-github",
        "colab_type": "text"
      },
      "source": [
        "<a href=\"https://colab.research.google.com/github/ravi-gopalan/ds_bowl/blob/master/DS_bowl_OOP_catboost.ipynb\" target=\"_parent\"><img src=\"https://colab.research.google.com/assets/colab-badge.svg\" alt=\"Open In Colab\"/></a>"
      ]
    },
    {
      "cell_type": "code",
      "metadata": {
        "id": "FMvGS1sSbRwO",
        "colab_type": "code",
        "colab": {
          "base_uri": "https://localhost:8080/",
          "height": 124
        },
        "outputId": "25e05edb-f758-4d23-e0f6-29924948afb8"
      },
      "source": [
        "from google.colab import drive\n",
        "drive.mount('/gdrive')"
      ],
      "execution_count": 1,
      "outputs": [
        {
          "output_type": "stream",
          "text": [
            "Go to this URL in a browser: https://accounts.google.com/o/oauth2/auth?client_id=947318989803-6bn6qk8qdgf4n4g3pfee6491hc0brc4i.apps.googleusercontent.com&redirect_uri=urn%3aietf%3awg%3aoauth%3a2.0%3aoob&response_type=code&scope=email%20https%3a%2f%2fwww.googleapis.com%2fauth%2fdocs.test%20https%3a%2f%2fwww.googleapis.com%2fauth%2fdrive%20https%3a%2f%2fwww.googleapis.com%2fauth%2fdrive.photos.readonly%20https%3a%2f%2fwww.googleapis.com%2fauth%2fpeopleapi.readonly\n",
            "\n",
            "Enter your authorization code:\n",
            "··········\n",
            "Mounted at /gdrive\n"
          ],
          "name": "stdout"
        }
      ]
    },
    {
      "cell_type": "code",
      "metadata": {
        "id": "u0prAqmTbiXO",
        "colab_type": "code",
        "colab": {
          "base_uri": "https://localhost:8080/",
          "height": 34
        },
        "outputId": "48690ac9-b9d4-4927-aabd-5140da2e3b58"
      },
      "source": [
        "cd /root"
      ],
      "execution_count": 2,
      "outputs": [
        {
          "output_type": "stream",
          "text": [
            "/root\n"
          ],
          "name": "stdout"
        }
      ]
    },
    {
      "cell_type": "code",
      "metadata": {
        "id": "bdiUjfoYbq9y",
        "colab_type": "code",
        "colab": {}
      },
      "source": [
        "!mkdir .kaggle"
      ],
      "execution_count": 0,
      "outputs": []
    },
    {
      "cell_type": "code",
      "metadata": {
        "id": "drGRWw6bbrhD",
        "colab_type": "code",
        "colab": {}
      },
      "source": [
        "!cp '/gdrive/My Drive/Colab_stuff/kaggle.json' '/root/.kaggle/kaggle.json' \n",
        "!chmod 600 /root/.kaggle/kaggle.json"
      ],
      "execution_count": 0,
      "outputs": []
    },
    {
      "cell_type": "code",
      "metadata": {
        "id": "MSeAr-JIbuNr",
        "colab_type": "code",
        "colab": {
          "base_uri": "https://localhost:8080/",
          "height": 34
        },
        "outputId": "dbe4bd69-0869-48e4-ad0b-da285ebd4cb3"
      },
      "source": [
        "cd /content/"
      ],
      "execution_count": 5,
      "outputs": [
        {
          "output_type": "stream",
          "text": [
            "/content\n"
          ],
          "name": "stdout"
        }
      ]
    },
    {
      "cell_type": "code",
      "metadata": {
        "id": "97AEXgvubwvE",
        "colab_type": "code",
        "colab": {}
      },
      "source": [
        "!mkdir data_science_bowl_2019"
      ],
      "execution_count": 0,
      "outputs": []
    },
    {
      "cell_type": "code",
      "metadata": {
        "id": "nzSvUcU_bzWv",
        "colab_type": "code",
        "colab": {
          "base_uri": "https://localhost:8080/",
          "height": 34
        },
        "outputId": "7e68a892-119d-47e3-ddba-697b2a40ef5a"
      },
      "source": [
        "cd data_science_bowl_2019"
      ],
      "execution_count": 7,
      "outputs": [
        {
          "output_type": "stream",
          "text": [
            "/content/data_science_bowl_2019\n"
          ],
          "name": "stdout"
        }
      ]
    },
    {
      "cell_type": "code",
      "metadata": {
        "id": "bKqTLS7-b1W7",
        "colab_type": "code",
        "colab": {
          "base_uri": "https://localhost:8080/",
          "height": 295
        },
        "outputId": "992876f7-875b-4357-966a-3e6dd976bf29"
      },
      "source": [
        "!kaggle competitions download -c data-science-bowl-2019"
      ],
      "execution_count": 8,
      "outputs": [
        {
          "output_type": "stream",
          "text": [
            "Warning: Looks like you're using an outdated API Version, please consider updating (server 1.5.6 / client 1.5.4)\n",
            "Downloading test.csv.zip to /content/data_science_bowl_2019\n",
            " 81% 33.0M/40.8M [00:01<00:01, 7.25MB/s]\n",
            "100% 40.8M/40.8M [00:01<00:00, 26.5MB/s]\n",
            "Downloading train_labels.csv.zip to /content/data_science_bowl_2019\n",
            "  0% 0.00/262k [00:00<?, ?B/s]\n",
            "100% 262k/262k [00:00<00:00, 78.0MB/s]\n",
            "Downloading specs.csv to /content/data_science_bowl_2019\n",
            "  0% 0.00/399k [00:00<?, ?B/s]\n",
            "100% 399k/399k [00:00<00:00, 118MB/s]\n",
            "Downloading sample_submission.csv to /content/data_science_bowl_2019\n",
            "  0% 0.00/10.8k [00:00<?, ?B/s]\n",
            "100% 10.8k/10.8k [00:00<00:00, 21.5MB/s]\n",
            "Downloading train.csv.zip to /content/data_science_bowl_2019\n",
            "100% 397M/397M [00:08<00:00, 82.0MB/s]\n",
            "\n"
          ],
          "name": "stdout"
        }
      ]
    },
    {
      "cell_type": "code",
      "metadata": {
        "id": "-wAFX_V1b4_e",
        "colab_type": "code",
        "colab": {
          "base_uri": "https://localhost:8080/",
          "height": 51
        },
        "outputId": "5885015b-fc1b-4c5d-a4a7-bcb048a939af"
      },
      "source": [
        "!ls"
      ],
      "execution_count": 9,
      "outputs": [
        {
          "output_type": "stream",
          "text": [
            "sample_submission.csv  test.csv.zip   train_labels.csv.zip\n",
            "specs.csv\t       train.csv.zip\n"
          ],
          "name": "stdout"
        }
      ]
    },
    {
      "cell_type": "code",
      "metadata": {
        "id": "xbMN4wxJb7m8",
        "colab_type": "code",
        "colab": {
          "base_uri": "https://localhost:8080/",
          "height": 121
        },
        "outputId": "87a97ab4-2064-4853-d4e9-1129b800431c"
      },
      "source": [
        "!unzip train_labels.csv.zip\n",
        "!unzip train.csv.zip\n",
        "!unzip test.csv.zip"
      ],
      "execution_count": 10,
      "outputs": [
        {
          "output_type": "stream",
          "text": [
            "Archive:  train_labels.csv.zip\n",
            "  inflating: train_labels.csv        \n",
            "Archive:  train.csv.zip\n",
            "  inflating: train.csv               \n",
            "Archive:  test.csv.zip\n",
            "  inflating: test.csv                \n"
          ],
          "name": "stdout"
        }
      ]
    },
    {
      "cell_type": "code",
      "metadata": {
        "id": "8y01b7nblktJ",
        "colab_type": "code",
        "colab": {}
      },
      "source": [
        "!pip install category_encoders\n",
        "!pip install catboost"
      ],
      "execution_count": 0,
      "outputs": []
    },
    {
      "cell_type": "code",
      "metadata": {
        "id": "b7Lxejt6b-Iy",
        "colab_type": "code",
        "colab": {}
      },
      "source": [
        "import pandas as pd\n",
        "import numpy as np\n",
        "from typing import Any\n",
        "import matplotlib.pyplot as plt\n",
        "import seaborn as sns\n",
        "%matplotlib inline\n",
        "import re\n",
        "\n",
        "import gc\n",
        "import re\n",
        "from sklearn.base import BaseEstimator, TransformerMixin\n",
        "from sklearn.model_selection import StratifiedKFold, KFold, RepeatedKFold, GroupKFold, GridSearchCV, train_test_split, TimeSeriesSplit, RepeatedStratifiedKFold\n",
        "from category_encoders.ordinal import OrdinalEncoder\n",
        "import catboost as cat\n",
        "from catboost import CatBoostRegressor, CatBoostClassifier\n",
        "\n",
        "from joblib import Parallel, delayed\n",
        "from collections import defaultdict\n",
        "import copy\n",
        "\n",
        "import time\n",
        "from numba import jit\n",
        "\n",
        "from sklearn.metrics import classification_report, confusion_matrix\n",
        "import warnings\n",
        "warnings.filterwarnings(\"ignore\")"
      ],
      "execution_count": 0,
      "outputs": []
    },
    {
      "cell_type": "code",
      "metadata": {
        "id": "mzOJsDL6cBFE",
        "colab_type": "code",
        "colab": {}
      },
      "source": [
        "base_dir = '/content/data_science_bowl_2019/'"
      ],
      "execution_count": 0,
      "outputs": []
    },
    {
      "cell_type": "code",
      "metadata": {
        "id": "5qeFsFdrcEA3",
        "colab_type": "code",
        "colab": {}
      },
      "source": [
        "def reduce_mem_usage(df, verbose=True):\n",
        "    numerics = ['int16', 'int32', 'int64', 'float16', 'float32', 'float64']\n",
        "    start_mem = df.memory_usage().sum() / 1024**2    \n",
        "    for col in df.columns:\n",
        "        col_type = df[col].dtypes\n",
        "        if col_type in numerics:\n",
        "            c_min = df[col].min()\n",
        "            c_max = df[col].max()\n",
        "            if str(col_type)[:3] == 'int':\n",
        "                if c_min > np.iinfo(np.int8).min and c_max < np.iinfo(np.int8).max:\n",
        "                    df[col] = df[col].astype(np.int8)\n",
        "                elif c_min > np.iinfo(np.int16).min and c_max < np.iinfo(np.int16).max:\n",
        "                    df[col] = df[col].astype(np.int16)\n",
        "                elif c_min > np.iinfo(np.int32).min and c_max < np.iinfo(np.int32).max:\n",
        "                    df[col] = df[col].astype(np.int32)\n",
        "                elif c_min > np.iinfo(np.int64).min and c_max < np.iinfo(np.int64).max:\n",
        "                    df[col] = df[col].astype(np.int64)  \n",
        "            else:\n",
        "                if c_min > np.finfo(np.float16).min and c_max < np.finfo(np.float16).max:\n",
        "                    df[col] = df[col].astype(np.float16)\n",
        "                elif c_min > np.finfo(np.float32).min and c_max < np.finfo(np.float32).max:\n",
        "                    df[col] = df[col].astype(np.float32)\n",
        "                else:\n",
        "                    df[col] = df[col].astype(np.float64)    \n",
        "    end_mem = df.memory_usage().sum() / 1024**2\n",
        "    if verbose: print('Mem. usage decreased to {:5.2f} Mb ({:.1f}% reduction)'.format(end_mem, 100 * (start_mem - end_mem) / start_mem))\n",
        "    return df\n",
        "\n",
        "def ifnone(a: Any, b: Any) -> Any:\n",
        "    \"\"\"`a` if `a` is not None, otherwise `b`.\n",
        "    from fastai: https://github.com/fastai/fastai/blob/master/fastai/core.py#L92\"\"\"\n",
        "    return b if a is None else a\n",
        "\n",
        "\n",
        "\n",
        "def add_datepart(df: pd.DataFrame, field_name: str,\n",
        "                 prefix: str = None, drop: bool = True, time: bool = True, date: bool = True):\n",
        "    \"\"\"\n",
        "    Helper function that adds columns relevant to a date in the column `field_name` of `df`.\n",
        "    from fastai: https://github.com/fastai/fastai/blob/master/fastai/tabular/transform.py#L55\n",
        "    \"\"\"\n",
        "    field = df[field_name]\n",
        "    prefix = ifnone(prefix, re.sub('[Dd]ate$', '', field_name))\n",
        "    attr = ['Year', 'Month', 'Week', 'Day', 'Dayofweek', 'Is_month_end', 'Is_month_start']\n",
        "    if date:\n",
        "        attr.append('Date')\n",
        "    if time:\n",
        "        attr = attr + ['Hour', 'Minute']\n",
        "    for n in attr:\n",
        "        df[prefix + n] = getattr(field.dt, n.lower())\n",
        "    if drop:\n",
        "        df.drop(field_name, axis=1, inplace=True)\n",
        "    return df\n",
        "\n",
        "def extract_time_features(df):\n",
        "    df['timestamp'] = pd.to_datetime(df['timestamp'])\n",
        "    df['date'] = df['timestamp'].dt.date\n",
        "    df['month'] = df['timestamp'].dt.month\n",
        "    df['hour'] = df['timestamp'].dt.hour\n",
        "    df['year'] = df['timestamp'].dt.year\n",
        "    df['dayofweek'] = df['timestamp'].dt.dayofweek\n",
        "    df['weekofyear'] = df['timestamp'].dt.weekofyear\n",
        "    df['dayofyear'] = df['timestamp'].dt.dayofyear\n",
        "    df['quarter'] = df['timestamp'].dt.quarter\n",
        "    df['is_month_start'] = df['timestamp'].dt.is_month_start\n",
        "    df['is_month_end'] = df['timestamp'].dt.is_month_end \n",
        "    return df\n",
        "\n",
        "def read_data():\n",
        "    print(f'Read data')\n",
        "    train_df = pd.read_csv(f'{base_dir}train.csv')\n",
        "   \n",
        "    test_df = pd.read_csv(base_dir+'test.csv')\n",
        "    train_labels_df = pd.read_csv(base_dir+'train_labels.csv')\n",
        "    specs_df = pd.read_csv(base_dir+'specs.csv')\n",
        "    sample_submission_df = pd.read_csv(base_dir+'sample_submission.csv')\n",
        "    \n",
        "    return train_df, test_df, train_labels_df, specs_df, sample_submission_df"
      ],
      "execution_count": 0,
      "outputs": []
    },
    {
      "cell_type": "code",
      "metadata": {
        "id": "G_zLE_Remhst",
        "colab_type": "code",
        "colab": {}
      },
      "source": [
        "@jit\n",
        "def qwk(a1, a2):\n",
        "    \"\"\"\n",
        "    Source: https://www.kaggle.com/c/data-science-bowl-2019/discussion/114133#latest-660168\n",
        "\n",
        "    :param a1:\n",
        "    :param a2:\n",
        "    :param max_rat:\n",
        "    :return:\n",
        "    \"\"\"\n",
        "    max_rat = 3\n",
        "    a1 = np.asarray(a1, dtype=int)\n",
        "    a2 = np.asarray(a2, dtype=int)\n",
        "\n",
        "    hist1 = np.zeros((max_rat + 1, ))\n",
        "    hist2 = np.zeros((max_rat + 1, ))\n",
        "\n",
        "    o = 0\n",
        "    for k in range(a1.shape[0]):\n",
        "        i, j = a1[k], a2[k]\n",
        "        hist1[i] += 1\n",
        "        hist2[j] += 1\n",
        "        o +=  (i - j) * (i - j)\n",
        "\n",
        "    e = 0\n",
        "    for i in range(max_rat + 1):\n",
        "        for j in range(max_rat + 1):\n",
        "            e += hist1[i] * hist2[j] * (i - j) * (i - j)\n",
        "\n",
        "    e = e / a1.shape[0]\n",
        "\n",
        "    return 1 - o / e\n"
      ],
      "execution_count": 0,
      "outputs": []
    },
    {
      "cell_type": "code",
      "metadata": {
        "id": "MoM9bV7TmlSY",
        "colab_type": "code",
        "colab": {}
      },
      "source": [
        ""
      ],
      "execution_count": 0,
      "outputs": []
    },
    {
      "cell_type": "code",
      "metadata": {
        "id": "vshBWYWJccBc",
        "colab_type": "code",
        "colab": {
          "base_uri": "https://localhost:8080/",
          "height": 208
        },
        "outputId": "574a7dfe-b03f-4c31-a901-4a62198d07d0"
      },
      "source": [
        "train_df, test_df, train_labels_df, specs_df, sample_submission_df = read_data()\n",
        "\n",
        "df_list = [train_df, test_df, train_labels_df, specs_df, sample_submission_df]\n",
        "df_names = ['train_df','test_df', 'train_labels_df', 'specs_df', 'sample_submission_df']\n",
        "for name, df in zip(df_names, df_list):\n",
        "  print(f'Shrinking {name}')\n",
        "  df = reduce_mem_usage(df)"
      ],
      "execution_count": 15,
      "outputs": [
        {
          "output_type": "stream",
          "text": [
            "Read data\n",
            "Shrinking train_df\n",
            "Mem. usage decreased to 778.73 Mb (18.2% reduction)\n",
            "Shrinking test_df\n",
            "Mem. usage decreased to 79.40 Mb (18.2% reduction)\n",
            "Shrinking train_labels_df\n",
            "Mem. usage decreased to  0.49 Mb (48.2% reduction)\n",
            "Shrinking specs_df\n",
            "Mem. usage decreased to  0.01 Mb (0.0% reduction)\n",
            "Shrinking sample_submission_df\n",
            "Mem. usage decreased to  0.01 Mb (43.4% reduction)\n"
          ],
          "name": "stdout"
        }
      ]
    },
    {
      "cell_type": "code",
      "metadata": {
        "id": "DYy3N6cAcp8d",
        "colab_type": "code",
        "colab": {
          "base_uri": "https://localhost:8080/",
          "height": 278
        },
        "outputId": "13d1cf99-2f84-46cd-ef0d-a5f125f086d7"
      },
      "source": [
        "!pip install category_encoders"
      ],
      "execution_count": 16,
      "outputs": [
        {
          "output_type": "stream",
          "text": [
            "Collecting category_encoders\n",
            "\u001b[?25l  Downloading https://files.pythonhosted.org/packages/a0/52/c54191ad3782de633ea3d6ee3bb2837bda0cf3bc97644bb6375cf14150a0/category_encoders-2.1.0-py2.py3-none-any.whl (100kB)\n",
            "\r\u001b[K     |███▎                            | 10kB 21.5MB/s eta 0:00:01\r\u001b[K     |██████▌                         | 20kB 6.8MB/s eta 0:00:01\r\u001b[K     |█████████▉                      | 30kB 9.5MB/s eta 0:00:01\r\u001b[K     |█████████████                   | 40kB 12.0MB/s eta 0:00:01\r\u001b[K     |████████████████▍               | 51kB 7.8MB/s eta 0:00:01\r\u001b[K     |███████████████████▋            | 61kB 9.1MB/s eta 0:00:01\r\u001b[K     |██████████████████████▉         | 71kB 10.3MB/s eta 0:00:01\r\u001b[K     |██████████████████████████▏     | 81kB 11.4MB/s eta 0:00:01\r\u001b[K     |█████████████████████████████▍  | 92kB 12.5MB/s eta 0:00:01\r\u001b[K     |████████████████████████████████| 102kB 6.4MB/s \n",
            "\u001b[?25hRequirement already satisfied: patsy>=0.4.1 in /usr/local/lib/python3.6/dist-packages (from category_encoders) (0.5.1)\n",
            "Requirement already satisfied: scipy>=0.19.0 in /usr/local/lib/python3.6/dist-packages (from category_encoders) (1.3.2)\n",
            "Requirement already satisfied: scikit-learn>=0.20.0 in /usr/local/lib/python3.6/dist-packages (from category_encoders) (0.21.3)\n",
            "Requirement already satisfied: statsmodels>=0.6.1 in /usr/local/lib/python3.6/dist-packages (from category_encoders) (0.10.1)\n",
            "Requirement already satisfied: pandas>=0.21.1 in /usr/local/lib/python3.6/dist-packages (from category_encoders) (0.25.3)\n",
            "Requirement already satisfied: numpy>=1.11.3 in /usr/local/lib/python3.6/dist-packages (from category_encoders) (1.17.4)\n",
            "Requirement already satisfied: six in /usr/local/lib/python3.6/dist-packages (from patsy>=0.4.1->category_encoders) (1.12.0)\n",
            "Requirement already satisfied: joblib>=0.11 in /usr/local/lib/python3.6/dist-packages (from scikit-learn>=0.20.0->category_encoders) (0.14.0)\n",
            "Requirement already satisfied: pytz>=2017.2 in /usr/local/lib/python3.6/dist-packages (from pandas>=0.21.1->category_encoders) (2018.9)\n",
            "Requirement already satisfied: python-dateutil>=2.6.1 in /usr/local/lib/python3.6/dist-packages (from pandas>=0.21.1->category_encoders) (2.6.1)\n",
            "Installing collected packages: category-encoders\n",
            "Successfully installed category-encoders-2.1.0\n"
          ],
          "name": "stdout"
        }
      ]
    },
    {
      "cell_type": "code",
      "metadata": {
        "id": "PFB5tXd9czcO",
        "colab_type": "code",
        "colab": {}
      },
      "source": [
        ""
      ],
      "execution_count": 0,
      "outputs": []
    },
    {
      "cell_type": "code",
      "metadata": {
        "id": "YYlCmmgacqbf",
        "colab_type": "code",
        "colab": {
          "base_uri": "https://localhost:8080/",
          "height": 191
        },
        "outputId": "4b0df6a7-8c5a-4438-8600-eabdd3cdf31a"
      },
      "source": [
        "title_oe = OrdinalEncoder()\n",
        "title_oe.fit(list(set(train_df['title'].unique()).union(set(test_df['title'].unique()))))\n",
        "\n",
        "world_oe = OrdinalEncoder()\n",
        "world_oe.fit(list(set(train_df['world'].unique()).union(set(test_df['world'].unique()))))  "
      ],
      "execution_count": 19,
      "outputs": [
        {
          "output_type": "execute_result",
          "data": {
            "text/plain": [
              "OrdinalEncoder(cols=[0], drop_invariant=False, handle_missing='value',\n",
              "               handle_unknown='value',\n",
              "               mapping=[{'col': 0, 'data_type': dtype('O'),\n",
              "                         'mapping': NONE            1\n",
              "CRYSTALCAVES    2\n",
              "MAGMAPEAK       3\n",
              "TREETOPCITY     4\n",
              "NaN            -2\n",
              "dtype: int64}],\n",
              "               return_df=True, verbose=0)"
            ]
          },
          "metadata": {
            "tags": []
          },
          "execution_count": 19
        }
      ]
    },
    {
      "cell_type": "code",
      "metadata": {
        "id": "OAIxW-Nuc9kc",
        "colab_type": "code",
        "colab": {}
      },
      "source": [
        ""
      ],
      "execution_count": 0,
      "outputs": []
    },
    {
      "cell_type": "code",
      "metadata": {
        "id": "hfqApatzc_58",
        "colab_type": "code",
        "colab": {}
      },
      "source": [
        "def add_attempts_corrects(df, title_oe, world_oe):\n",
        "  df['timestamp'] = pd.to_datetime(df['timestamp'])\n",
        "  df['attempt'] = 0\n",
        "  df.loc[(df['title'] == 'Bird Measurer (Assessment)') & (df['event_code'] == 4110), 'attempt'] = 1\n",
        "  df.loc[(df['type'] == 'Assessment') & (df['title'] != 'Bird Measurer (Assessment)') & (df['event_code'] == 4100), 'attempt'] = 1\n",
        "\n",
        "  df['correct'] = None\n",
        "  df.loc[(df['attempt'] == 1) & (df['event_data'].str.contains('\"correct\":true')), 'correct'] = True\n",
        "  df.loc[(df['attempt'] == 1) & (df['event_data'].str.contains('\"correct\":false')), 'correct'] = False\n",
        "\n",
        "  df['title'] = title_oe.transform(df['title'].values)\n",
        "  df['world'] = world_oe.transform(df['world'].values)\n",
        "  return df"
      ],
      "execution_count": 0,
      "outputs": []
    },
    {
      "cell_type": "code",
      "metadata": {
        "id": "sTcz9T7GdDxD",
        "colab_type": "code",
        "colab": {}
      },
      "source": [
        "train_df = add_attempts_corrects(train_df, title_oe, world_oe)\n",
        "test_df = add_attempts_corrects(test_df, title_oe, world_oe)\n",
        "\n",
        "train_df = train_df.loc[train_df['installation_id'].isin(train_labels_df['installation_id'].unique())]"
      ],
      "execution_count": 0,
      "outputs": []
    },
    {
      "cell_type": "code",
      "metadata": {
        "id": "XsI9UQkedftd",
        "colab_type": "code",
        "colab": {
          "base_uri": "https://localhost:8080/",
          "height": 347
        },
        "outputId": "bd0b26b9-8873-47ce-efda-dc6449936c02"
      },
      "source": [
        "!pip install catboost"
      ],
      "execution_count": 23,
      "outputs": [
        {
          "output_type": "stream",
          "text": [
            "Collecting catboost\n",
            "\u001b[?25l  Downloading https://files.pythonhosted.org/packages/7c/8d/ca8799e7b7cd1c5f84c1e92e6d3dd81ff03957211c959c0d4c027e95888a/catboost-0.20-cp36-none-manylinux1_x86_64.whl (63.6MB)\n",
            "\u001b[K     |████████████████████████████████| 63.6MB 78.8MB/s \n",
            "\u001b[?25hRequirement already satisfied: six in /usr/local/lib/python3.6/dist-packages (from catboost) (1.12.0)\n",
            "Requirement already satisfied: numpy>=1.16.0 in /usr/local/lib/python3.6/dist-packages (from catboost) (1.17.4)\n",
            "Requirement already satisfied: graphviz in /usr/local/lib/python3.6/dist-packages (from catboost) (0.10.1)\n",
            "Requirement already satisfied: scipy in /usr/local/lib/python3.6/dist-packages (from catboost) (1.3.2)\n",
            "Requirement already satisfied: pandas>=0.24.0 in /usr/local/lib/python3.6/dist-packages (from catboost) (0.25.3)\n",
            "Requirement already satisfied: plotly in /usr/local/lib/python3.6/dist-packages (from catboost) (4.1.1)\n",
            "Requirement already satisfied: matplotlib in /usr/local/lib/python3.6/dist-packages (from catboost) (3.1.1)\n",
            "Requirement already satisfied: pytz>=2017.2 in /usr/local/lib/python3.6/dist-packages (from pandas>=0.24.0->catboost) (2018.9)\n",
            "Requirement already satisfied: python-dateutil>=2.6.1 in /usr/local/lib/python3.6/dist-packages (from pandas>=0.24.0->catboost) (2.6.1)\n",
            "Requirement already satisfied: retrying>=1.3.3 in /usr/local/lib/python3.6/dist-packages (from plotly->catboost) (1.3.3)\n",
            "Requirement already satisfied: pyparsing!=2.0.4,!=2.1.2,!=2.1.6,>=2.0.1 in /usr/local/lib/python3.6/dist-packages (from matplotlib->catboost) (2.4.5)\n",
            "Requirement already satisfied: kiwisolver>=1.0.1 in /usr/local/lib/python3.6/dist-packages (from matplotlib->catboost) (1.1.0)\n",
            "Requirement already satisfied: cycler>=0.10 in /usr/local/lib/python3.6/dist-packages (from matplotlib->catboost) (0.10.0)\n",
            "Requirement already satisfied: setuptools in /usr/local/lib/python3.6/dist-packages (from kiwisolver>=1.0.1->matplotlib->catboost) (41.6.0)\n",
            "Installing collected packages: catboost\n",
            "Successfully installed catboost-0.20\n"
          ],
          "name": "stdout"
        }
      ]
    },
    {
      "cell_type": "code",
      "metadata": {
        "id": "rcTBd0yzdGeK",
        "colab_type": "code",
        "colab": {}
      },
      "source": [
        ""
      ],
      "execution_count": 0,
      "outputs": []
    },
    {
      "cell_type": "code",
      "metadata": {
        "id": "GNhwxAGGdNDz",
        "colab_type": "code",
        "colab": {}
      },
      "source": [
        "class CatWrapper(object):\n",
        "    \"\"\"\n",
        "    A wrapper for catboost model so that we will have a single api for various models.\n",
        "    \"\"\"\n",
        "\n",
        "    def __init__(self):\n",
        "        self.model = cat.CatBoostClassifier()\n",
        "\n",
        "    def fit(self, X_train, y_train, X_valid=None, y_valid=None, X_holdout=None, y_holdout=None, params=None):\n",
        "\n",
        "        eval_set = [(X_train, y_train)]\n",
        "        self.model = self.model.set_params(**{k: v for k, v in params.items() if k != 'cat_cols'})\n",
        "\n",
        "        if X_valid is not None:\n",
        "            eval_set.append((X_valid, y_valid))\n",
        "\n",
        "        if X_holdout is not None:\n",
        "            eval_set.append((X_holdout, y_holdout))\n",
        "\n",
        "        if 'cat_cols' in params.keys():\n",
        "            cat_cols = [col for col in params['cat_cols'] if col in X_train.columns]\n",
        "            if len(cat_cols) > 0:\n",
        "                categorical_columns = params['cat_cols']\n",
        "            else:\n",
        "                categorical_columns = None\n",
        "        else:\n",
        "            categorical_columns = None\n",
        "        \n",
        "        self.model.fit(X=X_train, y=y_train,\n",
        "                       eval_set=eval_set,\n",
        "                       verbose=params['verbose'], early_stopping_rounds=params['early_stopping_rounds'],\n",
        "                       cat_features=categorical_columns)\n",
        "\n",
        "        self.best_score_ = self.model.best_score_\n",
        "        self.feature_importances_ = self.model.feature_importances_\n",
        "\n",
        "    def predict_proba(self, X_test):\n",
        "        if 'MultiClass' not in self.model.get_param('loss_function'):\n",
        "            return self.model.predict_proba(X_test, ntree_end=self.model.best_iteration_)[:, 1]\n",
        "        else:\n",
        "            return self.model.predict_proba(X_test, ntree_end=self.model.best_iteration_)\n",
        "\n"
      ],
      "execution_count": 0,
      "outputs": []
    },
    {
      "cell_type": "code",
      "metadata": {
        "id": "SRoSpNQjdlS9",
        "colab_type": "code",
        "colab": {}
      },
      "source": [
        "class ClassifierModel(object):\n",
        "    \"\"\"\n",
        "    A wrapper class for classification models.\n",
        "    It can be used for training and prediction.\n",
        "    Can plot feature importance and training progress (if relevant for model).\n",
        "\n",
        "    \"\"\"\n",
        "\n",
        "    def __init__(self, columns: list = None, model_wrapper=None):\n",
        "        \"\"\"\n",
        "\n",
        "        :param original_columns:\n",
        "        :param model_wrapper:\n",
        "        \"\"\"\n",
        "        self.columns = columns\n",
        "        self.model_wrapper = model_wrapper\n",
        "        self.result_dict = {}\n",
        "        self.train_one_fold = False\n",
        "        self.preprocesser = None\n",
        "\n",
        "    def fit(self, X: pd.DataFrame, y,\n",
        "            X_holdout: pd.DataFrame = None, y_holdout=None,\n",
        "            folds=None,\n",
        "            params: dict = None,\n",
        "            eval_metric='auc',\n",
        "            cols_to_drop: list = None,\n",
        "            preprocesser=None,\n",
        "            transformers: dict = None,\n",
        "            adversarial: bool = False,\n",
        "            plot: bool = True):\n",
        "        \"\"\"\n",
        "        Training the model.\n",
        "\n",
        "        :param X: training data\n",
        "        :param y: training target\n",
        "        :param X_holdout: holdout data\n",
        "        :param y_holdout: holdout target\n",
        "        :param folds: folds to split the data. If not defined, then model will be trained on the whole X\n",
        "        :param params: training parameters\n",
        "        :param eval_metric: metric for validataion\n",
        "        :param cols_to_drop: list of columns to drop (for example ID)\n",
        "        :param preprocesser: preprocesser class\n",
        "        :param transformers: transformer to use on folds\n",
        "        :param adversarial\n",
        "        :return:\n",
        "        \"\"\"\n",
        "\n",
        "        if folds is None:\n",
        "            folds = KFold(n_splits=3, random_state=42)\n",
        "            self.train_one_fold = True\n",
        "\n",
        "        self.columns = X.columns if self.columns is None else self.columns\n",
        "        self.feature_importances = pd.DataFrame(columns=['feature', 'importance'])\n",
        "        self.trained_transformers = {k: [] for k in transformers}\n",
        "        self.transformers = transformers\n",
        "        self.models = []\n",
        "        self.folds_dict = {}\n",
        "        self.eval_metric = eval_metric\n",
        "        n_target = 4# 1 if len(set(y.values)) == 2 else len(set(y.values))\n",
        "        self.oof = np.zeros((len(X), n_target))\n",
        "        self.n_target = n_target\n",
        "\n",
        "        X = X[self.columns]\n",
        "        if X_holdout is not None:\n",
        "            X_holdout = X_holdout[self.columns]\n",
        "\n",
        "        if preprocesser is not None:\n",
        "            self.preprocesser = preprocesser\n",
        "            self.preprocesser.fit(X, y)\n",
        "            X = self.preprocesser.transform(X, y)\n",
        "            self.columns = X.columns.tolist()\n",
        "            if X_holdout is not None:\n",
        "                X_holdout = self.preprocesser.transform(X_holdout)\n",
        "            # y = X['accuracy_group']\n",
        "\n",
        "        for fold_n, (train_index, valid_index) in enumerate(folds.split(X, y, X['installation_id'])):\n",
        "            if X_holdout is not None:\n",
        "                X_hold = X_holdout.copy()\n",
        "            else:\n",
        "                X_hold = None\n",
        "            self.folds_dict[fold_n] = {}\n",
        "            if params['verbose']:\n",
        "                print(f'Fold {fold_n + 1} started at {time.ctime()}')\n",
        "            self.folds_dict[fold_n] = {}\n",
        "\n",
        "            X_train, X_valid = X.iloc[train_index], X.iloc[valid_index]\n",
        "            y_train, y_valid = y.iloc[train_index], y.iloc[valid_index]\n",
        "            if self.train_one_fold:\n",
        "                X_train = X[self.original_columns]\n",
        "                y_train = y\n",
        "                X_valid = None\n",
        "                y_valid = None\n",
        "\n",
        "            datasets = {'X_train': X_train, 'X_valid': X_valid, 'X_holdout': X_hold, 'y_train': y_train}\n",
        "            X_train, X_valid, X_hold = self.transform_(datasets, cols_to_drop)\n",
        "\n",
        "            self.folds_dict[fold_n]['columns'] = X_train.columns.tolist()\n",
        "\n",
        "            model = copy.deepcopy(self.model_wrapper)\n",
        "\n",
        "            if adversarial:\n",
        "                X_new1 = X_train.copy()\n",
        "                if X_valid is not None:\n",
        "                    X_new2 = X_valid.copy()\n",
        "                elif X_holdout is not None:\n",
        "                    X_new2 = X_holdout.copy()\n",
        "                X_new = pd.concat([X_new1, X_new2], axis=0)\n",
        "                y_new = np.hstack((np.zeros((X_new1.shape[0])), np.ones((X_new2.shape[0]))))\n",
        "                X_train, X_valid, y_train, y_valid = train_test_split(X_new, y_new)\n",
        "\n",
        "            model.fit(X_train, y_train, X_valid, y_valid, X_hold, y_holdout, params=params)\n",
        "\n",
        "            self.folds_dict[fold_n]['scores'] = model.best_score_\n",
        "            if self.oof.shape[0] != len(X):\n",
        "                self.oof = np.zeros((X.shape[0], self.oof.shape[1]))\n",
        "            if not adversarial:\n",
        "                self.oof[valid_index] = model.predict_proba(X_valid).reshape(-1, n_target)\n",
        "\n",
        "            fold_importance = pd.DataFrame(list(zip(X_train.columns, model.feature_importances_)),\n",
        "                                           columns=['feature', 'importance'])\n",
        "            self.feature_importances = self.feature_importances.append(fold_importance)\n",
        "            self.models.append(model)\n",
        "\n",
        "        self.feature_importances['importance'] = self.feature_importances['importance'].astype(float)\n",
        "\n",
        "        # if params['verbose']:\n",
        "        self.calc_scores_()\n",
        "\n",
        "        if plot:\n",
        "            print(classification_report(y, self.oof.argmax(1)))\n",
        "            fig, ax = plt.subplots(figsize=(16, 12))\n",
        "            plt.subplot(2, 2, 1)\n",
        "            self.plot_feature_importance(top_n=25)\n",
        "            plt.subplot(2, 2, 2)\n",
        "            self.plot_metric()\n",
        "            plt.subplot(2, 2, 3)\n",
        "            g = sns.heatmap(confusion_matrix(y, self.oof.argmax(1)), annot=True, cmap=plt.cm.Blues,fmt=\"d\")\n",
        "            g.set(ylim=(-0.5, 4), xlim=(-0.5, 4), title='Confusion matrix')\n",
        "\n",
        "            plt.subplot(2, 2, 4)\n",
        "            plt.hist(self.oof.argmax(1))\n",
        "            plt.xticks(range(self.n_target), range(self.n_target))\n",
        "            plt.title('Distribution of oof predictions');\n",
        "\n",
        "    def transform_(self, datasets, cols_to_drop):\n",
        "        for name, transformer in self.transformers.items():\n",
        "            transformer.fit(datasets['X_train'], datasets['y_train'])\n",
        "            datasets['X_train'] = transformer.transform(datasets['X_train'])\n",
        "            if datasets['X_valid'] is not None:\n",
        "                datasets['X_valid'] = transformer.transform(datasets['X_valid'])\n",
        "            if datasets['X_holdout'] is not None:\n",
        "                datasets['X_holdout'] = transformer.transform(datasets['X_holdout'])\n",
        "            self.trained_transformers[name].append(transformer)\n",
        "        if cols_to_drop is not None:\n",
        "            cols_to_drop = [col for col in cols_to_drop if col in datasets['X_train'].columns]\n",
        "            self.cols_to_drop = cols_to_drop\n",
        "            datasets['X_train'] = datasets['X_train'].drop(cols_to_drop, axis=1)\n",
        "            if datasets['X_valid'] is not None:\n",
        "                datasets['X_valid'] = datasets['X_valid'].drop(cols_to_drop, axis=1)\n",
        "            if datasets['X_holdout'] is not None:\n",
        "                datasets['X_holdout'] = datasets['X_holdout'].drop(cols_to_drop, axis=1)\n",
        "\n",
        "        return datasets['X_train'], datasets['X_valid'], datasets['X_holdout']\n",
        "\n",
        "    def calc_scores_(self):\n",
        "        print()\n",
        "        datasets = [k for k, v in [v['scores'] for k, v in self.folds_dict.items()][0].items() if len(v) > 0]\n",
        "        self.scores = {}\n",
        "        for d in datasets:\n",
        "            scores = [v['scores'][d][self.eval_metric] for k, v in self.folds_dict.items()]\n",
        "            print(f\"CV mean score on {d}: {np.mean(scores):.4f} +/- {np.std(scores):.4f} std.\")\n",
        "            self.scores[d] = np.mean(scores)\n",
        "\n",
        "    def predict(self, X_test, averaging: str = 'usual'):\n",
        "        \"\"\"\n",
        "        Make prediction\n",
        "\n",
        "        :param X_test:\n",
        "        :param averaging: method of averaging\n",
        "        :return:\n",
        "        \"\"\"\n",
        "        full_prediction = np.zeros((X_test.shape[0], self.oof.shape[1]))\n",
        "        if self.preprocesser is not None:\n",
        "            X_test = self.preprocesser.transform(X_test)\n",
        "        for i in range(len(self.models)):\n",
        "            X_t = X_test.copy()\n",
        "            for name, transformers in self.trained_transformers.items():\n",
        "                X_t = transformers[i].transform(X_t)\n",
        "\n",
        "            cols_to_drop = [col for col in self.cols_to_drop if col in X_t.columns]\n",
        "            X_t = X_t.drop(cols_to_drop, axis=1)\n",
        "            y_pred = self.models[i].predict_proba(X_t[self.folds_dict[i]['columns']]).reshape(-1, full_prediction.shape[1])\n",
        "\n",
        "            # if case transformation changes the number of the rows\n",
        "            if full_prediction.shape[0] != len(y_pred):\n",
        "                full_prediction = np.zeros((y_pred.shape[0], self.oof.shape[1]))\n",
        "\n",
        "            if averaging == 'usual':\n",
        "                full_prediction += y_pred\n",
        "            elif averaging == 'rank':\n",
        "                full_prediction += pd.Series(y_pred).rank().values\n",
        "\n",
        "        return full_prediction / len(self.models)\n",
        "\n",
        "    def plot_feature_importance(self, drop_null_importance: bool = True, top_n: int = 10):\n",
        "        \"\"\"\n",
        "        Plot default feature importance.\n",
        "\n",
        "        :param drop_null_importance: drop columns with null feature importance\n",
        "        :param top_n: show top n columns\n",
        "        :return:\n",
        "        \"\"\"\n",
        "\n",
        "        top_feats = self.get_top_features(drop_null_importance, top_n)\n",
        "        feature_importances = self.feature_importances.loc[self.feature_importances['feature'].isin(top_feats)]\n",
        "        feature_importances['feature'] = feature_importances['feature'].astype(str)\n",
        "        top_feats = [str(i) for i in top_feats]\n",
        "        sns.barplot(data=feature_importances, x='importance', y='feature', orient='h', order=top_feats)\n",
        "        plt.title('Feature importances')\n",
        "\n",
        "    def get_top_features(self, drop_null_importance: bool = True, top_n: int = 10):\n",
        "        \"\"\"\n",
        "        Get top features by importance.\n",
        "\n",
        "        :param drop_null_importance:\n",
        "        :param top_n:\n",
        "        :return:\n",
        "        \"\"\"\n",
        "        grouped_feats = self.feature_importances.groupby(['feature'])['importance'].mean()\n",
        "        if drop_null_importance:\n",
        "            grouped_feats = grouped_feats[grouped_feats != 0]\n",
        "        return list(grouped_feats.sort_values(ascending=False).index)[:top_n]\n",
        "\n",
        "    def plot_metric(self):\n",
        "        \"\"\"\n",
        "        Plot training progress.\n",
        "        Inspired by `plot_metric` from https://lightgbm.readthedocs.io/en/latest/_modules/lightgbm/plotting.html\n",
        "\n",
        "        :return:\n",
        "        \"\"\"\n",
        "        full_evals_results = pd.DataFrame()\n",
        "        for model in self.models:\n",
        "            evals_result = pd.DataFrame()\n",
        "            for k in model.model.evals_result_.keys():\n",
        "                evals_result[k] = model.model.evals_result_[k][self.eval_metric]\n",
        "            evals_result = evals_result.reset_index().rename(columns={'index': 'iteration'})\n",
        "            full_evals_results = full_evals_results.append(evals_result)\n",
        "\n",
        "        full_evals_results = full_evals_results.melt(id_vars=['iteration']).rename(columns={'value': self.eval_metric,\n",
        "                                                                                            'variable': 'dataset'})\n",
        "        full_evals_results[self.eval_metric] = np.abs(full_evals_results[self.eval_metric])\n",
        "        sns.lineplot(data=full_evals_results, x='iteration', y=self.eval_metric, hue='dataset')\n",
        "        plt.title('Training progress')"
      ],
      "execution_count": 0,
      "outputs": []
    },
    {
      "cell_type": "code",
      "metadata": {
        "id": "0CfXC5hVlNU-",
        "colab_type": "code",
        "colab": {}
      },
      "source": [
        ""
      ],
      "execution_count": 0,
      "outputs": []
    },
    {
      "cell_type": "code",
      "metadata": {
        "id": "ZUGPTOPZlQXc",
        "colab_type": "code",
        "colab": {}
      },
      "source": [
        "class FeatureGenerator(object):\n",
        "    def __init__(self, n_jobs=1, df=None, dataset: str = 'train'):\n",
        "        self.n_jobs = n_jobs\n",
        "        self.df = df\n",
        "        self.dataset = dataset\n",
        "\n",
        "    def read_chunks(self):\n",
        "        for id, user_sample in self.df.groupby('installation_id', sort=False):\n",
        "            yield id, user_sample\n",
        "\n",
        "    def get_features(self, row):\n",
        "        \"\"\"\n",
        "        Gets three groups of features: from original data and from reald and imaginary parts of FFT.\n",
        "        \"\"\"\n",
        "        return self.features(row)\n",
        "\n",
        "    def features(self, id, user_sample):\n",
        "        user_data = []\n",
        "\n",
        "        accuracy_mapping = {0: 0, 1: 3, 0.5: 2}\n",
        "\n",
        "        user_stats = defaultdict(int)\n",
        "        user_stats['installation_id'] = user_sample['installation_id'].unique()[0]\n",
        "        user_stats['world'] = user_sample['world'].unique()[0]\n",
        "        user_stats['timestamp'] = user_sample['timestamp'].unique()[0]\n",
        "\n",
        "        temp_dict = defaultdict(int)\n",
        "        another_temp_dict = {}\n",
        "        another_temp_dict['durations'] = []\n",
        "        another_temp_dict['all_durations'] = []\n",
        "        another_temp_dict['durations_with_attempts'] = []\n",
        "        another_temp_dict['mean_action_time'] = []\n",
        "        title_data = defaultdict(dict)\n",
        "\n",
        "        for i, session in user_sample.groupby('game_session', sort=False):\n",
        "            user_stats['last_ass_session_game_time'] = another_temp_dict['durations'][-1] if len(another_temp_dict['durations']) > 0 else 0\n",
        "            user_stats['last_session_game_time'] = another_temp_dict['all_durations'][-1] if len(another_temp_dict['all_durations']) > 0 else 0\n",
        "\n",
        "            # calculate some user_stats and append data\n",
        "            if session['attempt'].sum() > 0 or self.dataset == 'test':\n",
        "                user_stats['session_title'] = session['title'].values[0]\n",
        "                accuracy = np.nan_to_num(session['correct'].sum() / session['attempt'].sum())\n",
        "                if accuracy in accuracy_mapping.keys():\n",
        "                    user_stats['accuracy_group'] = accuracy_mapping[accuracy]\n",
        "                else:\n",
        "                    user_stats['accuracy_group'] = 1\n",
        "                user_stats['accumulated_accuracy_group'] = temp_dict['accumulated_accuracy_group'] / user_stats['counter'] if user_stats['counter'] > 0 else 0\n",
        "                temp_dict['accumulated_accuracy_group'] += user_stats['accuracy_group']\n",
        "                user_data.append(copy.copy(user_stats))\n",
        "\n",
        "            user_stats[session['type'].values[-1]] += 1\n",
        "            user_stats['accumulated_correct_attempts'] += session['correct'].sum()\n",
        "            user_stats['accumulated_uncorrect_attempts'] += session['attempt'].sum() - session['correct'].sum()\n",
        "            event_code_counts = session['event_code'].value_counts()\n",
        "            for i, j in zip(event_code_counts.index, event_code_counts.values):\n",
        "                user_stats[i] += j\n",
        "\n",
        "            temp_dict['assessment_counter'] += 1\n",
        "            if session['title'].values[-1] in title_data.keys():\n",
        "                pass\n",
        "            else:\n",
        "                title_data[session['title'].values[-1]] = defaultdict(int)\n",
        "\n",
        "            title_data[session['title'].values[-1]]['duration_all'] += session['game_time'].values[-1]\n",
        "            title_data[session['title'].values[-1]]['counter_all'] += 1\n",
        "            #user_stats['duration'] += (session['timestamp'].values[-1] - session['timestamp'].values[0]) / np.timedelta64(1, 's')\n",
        "\n",
        "            user_stats['duration'] = (session.iloc[-1,2] - session.iloc[0,2]).seconds\n",
        "            if session['type'].values[0] == 'Assessment' and (len(session) > 1 or self.dataset == 'test'):\n",
        "                another_temp_dict['durations'].append(user_stats['duration'])\n",
        "                accuracy = np.nan_to_num(session['correct'].sum() / session['attempt'].sum())\n",
        "                user_stats['accumulated_accuracy_'] += accuracy\n",
        "                user_stats['counter'] += 1\n",
        "                if user_stats['counter'] == 0:\n",
        "                    user_stats['accumulated_accuracy'] = 0\n",
        "                else:\n",
        "                    user_stats['accumulated_accuracy'] = user_stats['accumulated_accuracy_'] / user_stats['counter']\n",
        "\n",
        "                accuracy = np.nan_to_num(session['correct'].sum() / session['attempt'].sum())\n",
        "\n",
        "                if accuracy in accuracy_mapping.keys():\n",
        "                    user_stats[accuracy_mapping[accuracy]] += 1\n",
        "                else:\n",
        "                    user_stats[1] += 1\n",
        "\n",
        "                user_stats['accumulated_actions'] += len(session)\n",
        "\n",
        "                if session['attempt'].sum() > 0:\n",
        "                    user_stats['sessions_with_attempts'] += 1\n",
        "                    another_temp_dict['durations_with_attempts'].append(user_stats['duration'])\n",
        "\n",
        "                if session['correct'].sum() > 0:\n",
        "                    user_stats['sessions_with_correct_attempts'] += 1\n",
        "                    \n",
        "                user_stats['title_duration'] = title_data[session['title'].values[-1]]['duration']\n",
        "                user_stats['title_counter'] = title_data[session['title'].values[-1]]['counter']\n",
        "                user_stats['title_mean_duration'] = user_stats['title_duration'] / user_stats['title_mean_duration']  if user_stats['title_mean_duration'] > 0 else 0\n",
        "\n",
        "                user_stats['title_duration_all'] = title_data[session['title'].values[-1]]['duration_all']\n",
        "                user_stats['title_counter_all'] = title_data[session['title'].values[-1]]['counter_all']\n",
        "                user_stats['title_mean_duration_all'] = user_stats['title_duration_all'] / user_stats['title_mean_duration_all']  if user_stats['title_mean_duration_all'] > 0 else 0\n",
        "                \n",
        "                title_data[session['title'].values[-1]]['duration'] += session['game_time'].values[-1]\n",
        "                title_data[session['title'].values[-1]]['counter'] += 1\n",
        "\n",
        "            elif (len(session) > 1 or self.dataset == 'test'):\n",
        "                another_temp_dict['all_durations'].append(user_stats['duration'])\n",
        "\n",
        "\n",
        "            if user_stats['duration'] != 0:\n",
        "                temp_dict['nonzero_duration_assessment_counter'] += 1\n",
        "            #user_stats['duration_mean'] = user_stats['duration'] / max(temp_dict['nonzero_duration_assessment_counter'], 1)\n",
        "            # stats from assessment sessions\n",
        "            user_stats['duration_mean'] = np.mean(another_temp_dict['durations'])\n",
        "            user_stats['duration_attempts'] = np.mean(another_temp_dict['durations_with_attempts'])\n",
        "\n",
        "            # stats from all sessions\n",
        "            user_stats['all_duration_mean'] = np.mean(another_temp_dict['all_durations'])\n",
        "            user_stats['all_accumulated_actions'] += len(session)\n",
        "            user_stats['mean_action_time'] = np.mean(another_temp_dict['mean_action_time'])\n",
        "            another_temp_dict['mean_action_time'].append(session['game_time'].values[-1] / len(session))\n",
        "\n",
        "\n",
        "        if self.dataset == 'test':\n",
        "            user_data = [user_data[-1]]\n",
        "\n",
        "        return user_data\n",
        "\n",
        "    def generate(self):\n",
        "        feature_list = []\n",
        "#         res = Parallel(n_jobs=self.n_jobs, backend='threading')(delayed(self.features)(id, user_sample)\n",
        "#                                                                 for id, user_sample in tqdm(self.read_chunks(),\n",
        "#                                                                                             total=self.df[\n",
        "#                                                                                                 'installation_id'].nunique()))\n",
        "        res = Parallel(n_jobs=self.n_jobs, backend='threading')(delayed(self.features)(id, user_sample)\n",
        "                                                                for id, user_sample in self.read_chunks())\n",
        "        for r in res:\n",
        "            for r1 in r:\n",
        "                feature_list.append(r1)\n",
        "        return pd.DataFrame(feature_list)"
      ],
      "execution_count": 0,
      "outputs": []
    },
    {
      "cell_type": "code",
      "metadata": {
        "id": "4WQoQZNSlXhr",
        "colab_type": "code",
        "colab": {
          "base_uri": "https://localhost:8080/",
          "height": 156
        },
        "outputId": "ffb43c3f-96b7-45bb-d801-39107408622d"
      },
      "source": [
        "%%time\n",
        "fg = FeatureGenerator(n_jobs=2, df=train_df)\n",
        "data = fg.generate()\n",
        "data = data.fillna(0)"
      ],
      "execution_count": 29,
      "outputs": [
        {
          "output_type": "stream",
          "text": [
            "/usr/local/lib/python3.6/dist-packages/numpy/core/_methods.py:161: RuntimeWarning: invalid value encountered in double_scalars\n",
            "  ret = ret.dtype.type(ret / rcount)\n",
            "/usr/local/lib/python3.6/dist-packages/numpy/core/fromnumeric.py:3257: RuntimeWarning: Mean of empty slice.\n",
            "  out=out, **kwargs)\n",
            "/usr/local/lib/python3.6/dist-packages/ipykernel_launcher.py:71: RuntimeWarning: invalid value encountered in long_scalars\n",
            "/usr/local/lib/python3.6/dist-packages/ipykernel_launcher.py:79: RuntimeWarning: invalid value encountered in long_scalars\n"
          ],
          "name": "stderr"
        },
        {
          "output_type": "stream",
          "text": [
            "CPU times: user 7min 50s, sys: 27.3 s, total: 8min 17s\n",
            "Wall time: 7min 34s\n"
          ],
          "name": "stdout"
        }
      ]
    },
    {
      "cell_type": "code",
      "metadata": {
        "id": "Um6uLui-lasN",
        "colab_type": "code",
        "colab": {
          "base_uri": "https://localhost:8080/",
          "height": 34
        },
        "outputId": "50f32a25-4add-458d-ecde-65fa45438a46"
      },
      "source": [
        "del train_df\n",
        "gc.collect()"
      ],
      "execution_count": 32,
      "outputs": [
        {
          "output_type": "execute_result",
          "data": {
            "text/plain": [
              "508"
            ]
          },
          "metadata": {
            "tags": []
          },
          "execution_count": 32
        }
      ]
    },
    {
      "cell_type": "code",
      "metadata": {
        "id": "zENwWv3Gl27P",
        "colab_type": "code",
        "colab": {}
      },
      "source": [
        "class MainTransformer(BaseEstimator, TransformerMixin):\n",
        "\n",
        "    def __init__(self, convert_cyclical: bool = False, create_interactions: bool = False, n_interactions: int = 20):\n",
        "        \"\"\"\n",
        "        Main transformer for the data. Can be used for processing on the whole data.\n",
        "\n",
        "        :param convert_cyclical: convert cyclical features into continuous\n",
        "        :param create_interactions: create interactions between features\n",
        "        \"\"\"\n",
        "\n",
        "        self.convert_cyclical = convert_cyclical\n",
        "        self.create_interactions = create_interactions\n",
        "        self.feats_for_interaction = None\n",
        "        self.n_interactions = n_interactions\n",
        "\n",
        "    def fit(self, X, y=None):\n",
        "\n",
        "        if self.create_interactions:\n",
        "            self.feats_for_interaction = [col for col in X.columns if 'sum' in col\n",
        "                                          or 'mean' in col or 'max' in col or 'std' in col\n",
        "                                          or 'attempt' in col]\n",
        "            self.feats_for_interaction1 = np.random.choice(self.feats_for_interaction, self.n_interactions)\n",
        "            self.feats_for_interaction2 = np.random.choice(self.feats_for_interaction, self.n_interactions)\n",
        "\n",
        "        return self\n",
        "\n",
        "    def transform(self, X, y=None):\n",
        "        data = copy.deepcopy(X)\n",
        "        if self.create_interactions:\n",
        "            for col1 in self.feats_for_interaction1:\n",
        "                for col2 in self.feats_for_interaction2:\n",
        "                    data[f'{col1}_int_{col2}'] = data[col1] * data[col2]\n",
        "\n",
        "        if self.convert_cyclical:\n",
        "            data['timestampHour'] = np.sin(2 * np.pi * data['timestampHour'] / 23.0)\n",
        "            data['timestampMonth'] = np.sin(2 * np.pi * data['timestampMonth'] / 23.0)\n",
        "            data['timestampWeek'] = np.sin(2 * np.pi * data['timestampWeek'] / 23.0)\n",
        "            data['timestampMinute'] = np.sin(2 * np.pi * data['timestampMinute'] / 23.0)\n",
        "\n",
        "        data['installation_session_count'] = data.groupby(['installation_id'])['Clip'].transform('count')\n",
        "        data['installation_duration_mean'] = data.groupby(['installation_id'])['duration_mean'].transform('mean')\n",
        "        data['installation_title_nunique'] = data.groupby(['installation_id'])['session_title'].transform('nunique')\n",
        "\n",
        "        data['sum_event_code_count'] = data[['2000', '3010', '3110', '4070', '4090', '4030', '4035', '4021', '4020', '4010', '2080', '2083', '2040', '2020', '2030', '3021', '3121', '2050', '3020', '3120', '2060', '2070', '4031', '4025', '5000', '5010', '2081', '2025', '4022', '2035', '4040', '4100', '2010', '4110', '4045', '4095', '4220', '2075', '4230', '4235', '4080', '4050']].sum(axis=1)\n",
        "\n",
        "        # data['installation_event_code_count_mean'] = data.groupby(['installation_id'])['sum_event_code_count'].transform('mean')\n",
        "\n",
        "        return data\n",
        "\n",
        "    def fit_transform(self, X, y=None, **fit_params):\n",
        "        data = copy.deepcopy(X)\n",
        "        self.fit(data)\n",
        "        return self.transform(data)\n"
      ],
      "execution_count": 0,
      "outputs": []
    },
    {
      "cell_type": "code",
      "metadata": {
        "id": "wVLelpKdl7mW",
        "colab_type": "code",
        "colab": {}
      },
      "source": [
        "class CategoricalTransformer(BaseEstimator, TransformerMixin):\n",
        "\n",
        "    def __init__(self, cat_cols=None, drop_original: bool = False, encoder=OrdinalEncoder()):\n",
        "        \"\"\"\n",
        "        Categorical transformer. This is a wrapper for categorical encoders.\n",
        "\n",
        "        :param cat_cols:\n",
        "        :param drop_original:\n",
        "        :param encoder:\n",
        "        \"\"\"\n",
        "        self.cat_cols = cat_cols\n",
        "        self.drop_original = drop_original\n",
        "        self.encoder = encoder\n",
        "        self.default_encoder = OrdinalEncoder()\n",
        "\n",
        "    def fit(self, X, y=None):\n",
        "\n",
        "        if self.cat_cols is None:\n",
        "            kinds = np.array([dt.kind for dt in X.dtypes])\n",
        "            is_cat = kinds == 'O'\n",
        "            self.cat_cols = list(X.columns[is_cat])\n",
        "        self.encoder.set_params(cols=self.cat_cols)\n",
        "        self.default_encoder.set_params(cols=self.cat_cols)\n",
        "\n",
        "        self.encoder.fit(X[self.cat_cols], y)\n",
        "        self.default_encoder.fit(X[self.cat_cols], y)\n",
        "\n",
        "        return self\n",
        "\n",
        "    def transform(self, X, y=None):\n",
        "        data = copy.deepcopy(X)\n",
        "        new_cat_names = [f'{col}_encoded' for col in self.cat_cols]\n",
        "        encoded_data = self.encoder.transform(data[self.cat_cols])\n",
        "        if encoded_data.shape[1] == len(self.cat_cols):\n",
        "            data[new_cat_names] = encoded_data\n",
        "        else:\n",
        "            pass\n",
        "\n",
        "        if self.drop_original:\n",
        "            data = data.drop(self.cat_cols, axis=1)\n",
        "        else:\n",
        "            data[self.cat_cols] = self.default_encoder.transform(data[self.cat_cols])\n",
        "\n",
        "        return data\n",
        "\n",
        "    def fit_transform(self, X, y=None, **fit_params):\n",
        "        data = copy.deepcopy(X)\n",
        "        self.fit(data)\n",
        "        return self.transform(data)"
      ],
      "execution_count": 0,
      "outputs": []
    },
    {
      "cell_type": "code",
      "metadata": {
        "id": "xoXl16iimALR",
        "colab_type": "code",
        "colab": {}
      },
      "source": [
        "class FeatureTransformer(BaseEstimator, TransformerMixin):\n",
        "\n",
        "    def __init__(self, main_cat_features: list = None, num_cols: list = None):\n",
        "        \"\"\"\n",
        "\n",
        "        :param main_cat_features:\n",
        "        :param num_cols:\n",
        "        \"\"\"\n",
        "        self.main_cat_features = main_cat_features\n",
        "        self.num_cols = num_cols\n",
        "\n",
        "    def fit(self, X, y=None):\n",
        "\n",
        "        self.num_cols = [col for col in X.columns if 'sum' in col or 'mean' in col or 'max' in col or 'std' in col\n",
        "                         or 'attempt' in col]\n",
        "\n",
        "        return self\n",
        "\n",
        "    def transform(self, X, y=None):\n",
        "        data = copy.deepcopy(X)\n",
        "#         for col in self.num_cols:\n",
        "#             data[f'{col}_to_mean'] = data[col] / data.groupby('installation_id')[col].transform('mean')\n",
        "#             data[f'{col}_to_std'] = data[col] / data.groupby('installation_id')[col].transform('std')\n",
        "\n",
        "        return data\n",
        "\n",
        "    def fit_transform(self, X, y=None, **fit_params):\n",
        "        data = copy.deepcopy(X)\n",
        "        self.fit(data)\n",
        "        return self.transform(data)"
      ],
      "execution_count": 0,
      "outputs": []
    },
    {
      "cell_type": "code",
      "metadata": {
        "id": "UuF8ZaxhmELd",
        "colab_type": "code",
        "colab": {}
      },
      "source": [
        "cat_cols = ['world']\n",
        "mt = MainTransformer(create_interactions=False)\n",
        "ct = CategoricalTransformer(drop_original=True, cat_cols=cat_cols)\n",
        "ft = FeatureTransformer()\n",
        "transformers = {'ft': ft, 'ct': ct}"
      ],
      "execution_count": 0,
      "outputs": []
    },
    {
      "cell_type": "code",
      "metadata": {
        "id": "Y0UbUfXQmG2T",
        "colab_type": "code",
        "colab": {
          "base_uri": "https://localhost:8080/",
          "height": 34
        },
        "outputId": "8ba5d267-16a7-42a9-d947-ee3a4f08b2ee"
      },
      "source": [
        "data = add_datepart(data, 'timestamp', drop=False)\n",
        "data = reduce_mem_usage(data)\n",
        "y = data['accuracy_group']"
      ],
      "execution_count": 37,
      "outputs": [
        {
          "output_type": "stream",
          "text": [
            "Mem. usage decreased to  3.39 Mb (70.9% reduction)\n"
          ],
          "name": "stdout"
        }
      ]
    },
    {
      "cell_type": "code",
      "metadata": {
        "id": "Famhu7CTmI9x",
        "colab_type": "code",
        "colab": {}
      },
      "source": [
        ""
      ],
      "execution_count": 0,
      "outputs": []
    },
    {
      "cell_type": "code",
      "metadata": {
        "id": "bRIfQ8bgmLAm",
        "colab_type": "code",
        "colab": {}
      },
      "source": [
        ""
      ],
      "execution_count": 0,
      "outputs": []
    },
    {
      "cell_type": "code",
      "metadata": {
        "id": "N01W6PsumM7M",
        "colab_type": "code",
        "colab": {}
      },
      "source": [
        ""
      ],
      "execution_count": 0,
      "outputs": []
    },
    {
      "cell_type": "code",
      "metadata": {
        "id": "FF3i3nfYmQ_-",
        "colab_type": "code",
        "colab": {
          "base_uri": "https://localhost:8080/",
          "height": 69
        },
        "outputId": "9aea3987-9638-43e6-f912-cd1a7ab5bc51"
      },
      "source": [
        "# getting constant columns\n",
        "bad_cols = []\n",
        "for col in data:\n",
        "    if data[col].nunique() <= 1:\n",
        "        print(col)\n",
        "        bad_cols.append(col)\n",
        "\n",
        "\n",
        "cols_to_drop = ['game_session', 'installation_id', 'timestamp', 'accuracy_group', 'timestampDate'] + bad_cols\n",
        "\n",
        "data.columns = [str(col) for col in data.columns]"
      ],
      "execution_count": 38,
      "outputs": [
        {
          "output_type": "stream",
          "text": [
            "title_mean_duration\n",
            "title_mean_duration_all\n",
            "timestampYear\n"
          ],
          "name": "stdout"
        }
      ]
    },
    {
      "cell_type": "code",
      "metadata": {
        "id": "Jfzv7V-imSCX",
        "colab_type": "code",
        "colab": {}
      },
      "source": [
        "cat_params = {'loss_function': 'MultiClass',\n",
        "          'eval_metric':\"WKappa\",\n",
        "          'task_type': \"CPU\",\n",
        "          'iterations': 2000,\n",
        "          'learning_rate': 0.01,\n",
        "          'verbose': 500,\n",
        "          'early_stopping_rounds': 100,\n",
        "          'cat_cols': ['world_encoded', 'session_title'],\n",
        "          'od_type': 'Iter',\n",
        "          'early_stopping_rounds': 200\n",
        "    }"
      ],
      "execution_count": 0,
      "outputs": []
    },
    {
      "cell_type": "code",
      "metadata": {
        "id": "kRRJ6qMWm7Nb",
        "colab_type": "code",
        "colab": {}
      },
      "source": [
        "folds = GroupKFold(n_splits=5)"
      ],
      "execution_count": 0,
      "outputs": []
    },
    {
      "cell_type": "code",
      "metadata": {
        "id": "QLXJz7T-nB9V",
        "colab_type": "code",
        "colab": {
          "base_uri": "https://localhost:8080/",
          "height": 1000
        },
        "outputId": "b30f6960-3155-4930-b28a-1a19fb8bae44"
      },
      "source": [
        "cat_model = ClassifierModel(model_wrapper=CatWrapper())\n",
        "cat_model.fit(X=data, y=y, folds=folds, params=cat_params, preprocesser=mt, transformers=transformers,\n",
        "              eval_metric='WKappa', cols_to_drop=cols_to_drop)"
      ],
      "execution_count": 43,
      "outputs": [
        {
          "output_type": "stream",
          "text": [
            "Fold 1 started at Sat Nov 30 09:25:18 2019\n",
            "0:\tlearn: 0.4522516\ttest: 0.4562965\ttest1: 0.4602028\tbest: 0.4602028 (0)\ttotal: 177ms\tremaining: 5m 54s\n",
            "Stopped by overfitting detector  (200 iterations wait)\n",
            "\n",
            "bestTest = 0.5142268032\n",
            "bestIteration = 1\n",
            "\n",
            "Shrink model to first 2 iterations.\n",
            "Fold 2 started at Sat Nov 30 09:25:39 2019\n",
            "0:\tlearn: 0.4207412\ttest: 0.4556531\ttest1: 0.4627095\tbest: 0.4627095 (0)\ttotal: 105ms\tremaining: 3m 29s\n",
            "500:\tlearn: 0.5090970\ttest: 0.5101197\ttest1: 0.5147377\tbest: 0.5147377 (500)\ttotal: 49.1s\tremaining: 2m 26s\n",
            "1000:\tlearn: 0.5332299\ttest: 0.5337229\ttest1: 0.5225096\tbest: 0.5238728 (979)\ttotal: 1m 38s\tremaining: 1m 37s\n",
            "1500:\tlearn: 0.5595223\ttest: 0.5577216\ttest1: 0.5304931\tbest: 0.5308424 (1491)\ttotal: 2m 27s\tremaining: 49.2s\n",
            "1999:\tlearn: 0.5715971\ttest: 0.5713281\ttest1: 0.5402508\tbest: 0.5419745 (1932)\ttotal: 3m 16s\tremaining: 0us\n",
            "\n",
            "bestTest = 0.5419745178\n",
            "bestIteration = 1932\n",
            "\n",
            "Shrink model to first 1933 iterations.\n",
            "Fold 3 started at Sat Nov 30 09:28:56 2019\n",
            "0:\tlearn: 0.4472570\ttest: 0.4652758\ttest1: 0.4390599\tbest: 0.4390599 (0)\ttotal: 104ms\tremaining: 3m 28s\n",
            "500:\tlearn: 0.5141652\ttest: 0.5155513\ttest1: 0.4772560\tbest: 0.4772560 (500)\ttotal: 50.2s\tremaining: 2m 30s\n",
            "1000:\tlearn: 0.5360241\ttest: 0.5378507\ttest1: 0.4993484\tbest: 0.5005826 (991)\ttotal: 1m 40s\tremaining: 1m 40s\n",
            "1500:\tlearn: 0.5548123\ttest: 0.5588648\ttest1: 0.5036191\tbest: 0.5051844 (1447)\ttotal: 2m 31s\tremaining: 50.2s\n",
            "1999:\tlearn: 0.5725967\ttest: 0.5757436\ttest1: 0.5123596\tbest: 0.5127044 (1996)\ttotal: 3m 21s\tremaining: 0us\n",
            "\n",
            "bestTest = 0.5127044483\n",
            "bestIteration = 1996\n",
            "\n",
            "Shrink model to first 1997 iterations.\n",
            "Fold 4 started at Sat Nov 30 09:32:19 2019\n",
            "0:\tlearn: 0.4413515\ttest: 0.4508378\ttest1: 0.4347409\tbest: 0.4347409 (0)\ttotal: 104ms\tremaining: 3m 28s\n",
            "Stopped by overfitting detector  (200 iterations wait)\n",
            "\n",
            "bestTest = 0.4551609088\n",
            "bestIteration = 1\n",
            "\n",
            "Shrink model to first 2 iterations.\n",
            "Fold 5 started at Sat Nov 30 09:32:39 2019\n",
            "0:\tlearn: 0.4654031\ttest: 0.4654031\ttest1: 0.4519259\tbest: 0.4519259 (0)\ttotal: 99.3ms\tremaining: 3m 18s\n",
            "500:\tlearn: 0.5175244\ttest: 0.5180966\ttest1: 0.4726451\tbest: 0.4737463 (338)\ttotal: 49s\tremaining: 2m 26s\n",
            "1000:\tlearn: 0.5424804\ttest: 0.5438852\ttest1: 0.4747656\tbest: 0.4774479 (934)\ttotal: 1m 38s\tremaining: 1m 38s\n",
            "Stopped by overfitting detector  (200 iterations wait)\n",
            "\n",
            "bestTest = 0.4774479115\n",
            "bestIteration = 934\n",
            "\n",
            "Shrink model to first 935 iterations.\n",
            "\n",
            "CV mean score on learn: 0.5333 +/- 0.0404 std.\n",
            "CV mean score on validation_0: 0.5344 +/- 0.0403 std.\n",
            "CV mean score on validation_1: 0.5003 +/- 0.0305 std.\n",
            "              precision    recall  f1-score   support\n",
            "\n",
            "           0       0.58      0.60      0.59      4229\n",
            "           1       0.38      0.10      0.16      2411\n",
            "           2       0.00      0.00      0.00      2205\n",
            "           3       0.63      0.90      0.74      8845\n",
            "\n",
            "    accuracy                           0.61     17690\n",
            "   macro avg       0.40      0.40      0.37     17690\n",
            "weighted avg       0.51      0.61      0.53     17690\n",
            "\n"
          ],
          "name": "stdout"
        },
        {
          "output_type": "display_data",
          "data": {
            "image/png": "[encoded data removed]",
            "text/plain": [
              "<Figure size 1152x864 with 5 Axes>"
            ]
          },
          "metadata": {
            "tags": []
          }
        }
      ]
    },
    {
      "cell_type": "code",
      "metadata": {
        "id": "-ig81EMXnC-y",
        "colab_type": "code",
        "colab": {
          "base_uri": "https://localhost:8080/",
          "height": 51
        },
        "outputId": "76217c1a-e547-47a0-d34f-2cccf075fb46"
      },
      "source": [
        "%%time\n",
        "fg = FeatureGenerator(n_jobs=2, df=test_df, dataset='test')\n",
        "test_data = fg.generate()\n",
        "test_data.columns = [str(col) for col in test_data.columns]\n",
        "test_data = test_data.fillna(0)\n",
        "test_data = add_datepart(test_data, 'timestamp', drop=False)"
      ],
      "execution_count": 44,
      "outputs": [
        {
          "output_type": "stream",
          "text": [
            "CPU times: user 1min 25s, sys: 4.72 s, total: 1min 29s\n",
            "Wall time: 1min 21s\n"
          ],
          "name": "stdout"
        }
      ]
    },
    {
      "cell_type": "code",
      "metadata": {
        "id": "mDpXmi2doh97",
        "colab_type": "code",
        "colab": {}
      },
      "source": [
        "prediction = cat_model.predict(test_data)"
      ],
      "execution_count": 0,
      "outputs": []
    },
    {
      "cell_type": "code",
      "metadata": {
        "id": "Q7yU3uA7qp0E",
        "colab_type": "code",
        "colab": {
          "base_uri": "https://localhost:8080/",
          "height": 138
        },
        "outputId": "2499db93-5b8b-40a9-a4cd-ed6f8bfdfe30"
      },
      "source": [
        "prediction"
      ],
      "execution_count": 46,
      "outputs": [
        {
          "output_type": "execute_result",
          "data": {
            "text/plain": [
              "array([[0.16378033, 0.15427156, 0.19796243, 0.48398569],\n",
              "       [0.15060274, 0.16469357, 0.18365474, 0.50104894],\n",
              "       [0.19384419, 0.13794968, 0.16440869, 0.50379744],\n",
              "       ...,\n",
              "       [0.21268266, 0.18695785, 0.19678919, 0.4035703 ],\n",
              "       [0.28381825, 0.14821276, 0.17361082, 0.39435818],\n",
              "       [0.21162525, 0.30992998, 0.19984312, 0.27860164]])"
            ]
          },
          "metadata": {
            "tags": []
          },
          "execution_count": 46
        }
      ]
    },
    {
      "cell_type": "code",
      "metadata": {
        "id": "MbbgVl5vonvT",
        "colab_type": "code",
        "colab": {}
      },
      "source": [
        "sample_submission_df['accuracy_group'] = prediction.argmax(1)\n",
        "sample_submission_df.to_csv('submission.csv', index=False)"
      ],
      "execution_count": 0,
      "outputs": []
    }
  ]
}