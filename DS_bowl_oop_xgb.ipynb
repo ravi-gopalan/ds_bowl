{
  "nbformat": 4,
  "nbformat_minor": 0,
  "metadata": {
    "colab": {
      "name": "DS_bowl_oop_xgb.ipynb",
      "provenance": [],
      "include_colab_link": true
    },
    "kernelspec": {
      "name": "python3",
      "display_name": "Python 3"
    },
    "accelerator": "GPU"
  },
  "cells": [
    {
      "cell_type": "markdown",
      "metadata": {
        "id": "view-in-github",
        "colab_type": "text"
      },
      "source": [
        "<a href=\"https://colab.research.google.com/github/ravi-gopalan/ds_bowl/blob/master/DS_bowl_oop_xgb.ipynb\" target=\"_parent\"><img src=\"https://colab.research.google.com/assets/colab-badge.svg\" alt=\"Open In Colab\"/></a>"
      ]
    },
    {
      "cell_type": "code",
      "metadata": {
        "id": "OQwiu1EQReVa",
        "colab_type": "code",
        "colab": {
          "base_uri": "https://localhost:8080/",
          "height": 124
        },
        "outputId": "9a7f4ae4-a1ae-4320-f836-d661dd1b5419"
      },
      "source": [
        "from google.colab import drive\n",
        "drive.mount('/gdrive')"
      ],
      "execution_count": 1,
      "outputs": [
        {
          "output_type": "stream",
          "text": [
            "Go to this URL in a browser: https://accounts.google.com/o/oauth2/auth?client_id=947318989803-6bn6qk8qdgf4n4g3pfee6491hc0brc4i.apps.googleusercontent.com&redirect_uri=urn%3aietf%3awg%3aoauth%3a2.0%3aoob&response_type=code&scope=email%20https%3a%2f%2fwww.googleapis.com%2fauth%2fdocs.test%20https%3a%2f%2fwww.googleapis.com%2fauth%2fdrive%20https%3a%2f%2fwww.googleapis.com%2fauth%2fdrive.photos.readonly%20https%3a%2f%2fwww.googleapis.com%2fauth%2fpeopleapi.readonly\n",
            "\n",
            "Enter your authorization code:\n",
            "··········\n",
            "Mounted at /gdrive\n"
          ],
          "name": "stdout"
        }
      ]
    },
    {
      "cell_type": "code",
      "metadata": {
        "id": "r_oGtLibRpOj",
        "colab_type": "code",
        "colab": {
          "base_uri": "https://localhost:8080/",
          "height": 34
        },
        "outputId": "503bf571-598f-44ea-f8d8-e05ed0631a56"
      },
      "source": [
        "cd /root"
      ],
      "execution_count": 2,
      "outputs": [
        {
          "output_type": "stream",
          "text": [
            "/root\n"
          ],
          "name": "stdout"
        }
      ]
    },
    {
      "cell_type": "code",
      "metadata": {
        "id": "HYOnqxxRRslY",
        "colab_type": "code",
        "colab": {}
      },
      "source": [
        "!mkdir .kaggle"
      ],
      "execution_count": 0,
      "outputs": []
    },
    {
      "cell_type": "code",
      "metadata": {
        "id": "mfH33sEaR2Lw",
        "colab_type": "code",
        "colab": {}
      },
      "source": [
        "!cp '/gdrive/My Drive/Colab_stuff/kaggle.json' '/root/.kaggle/kaggle.json' \n",
        "!chmod 600 /root/.kaggle/kaggle.json"
      ],
      "execution_count": 0,
      "outputs": []
    },
    {
      "cell_type": "code",
      "metadata": {
        "id": "wHFyZCsLR8Za",
        "colab_type": "code",
        "colab": {
          "base_uri": "https://localhost:8080/",
          "height": 34
        },
        "outputId": "c55c109c-e8fc-4187-c64e-0e383202063b"
      },
      "source": [
        "cd /content/"
      ],
      "execution_count": 5,
      "outputs": [
        {
          "output_type": "stream",
          "text": [
            "/content\n"
          ],
          "name": "stdout"
        }
      ]
    },
    {
      "cell_type": "code",
      "metadata": {
        "id": "Pp2Y6-w6R9N0",
        "colab_type": "code",
        "colab": {}
      },
      "source": [
        "!mkdir data_science_bowl_2019"
      ],
      "execution_count": 0,
      "outputs": []
    },
    {
      "cell_type": "code",
      "metadata": {
        "id": "gyZkHX8qSAaz",
        "colab_type": "code",
        "colab": {
          "base_uri": "https://localhost:8080/",
          "height": 34
        },
        "outputId": "56f9594e-182c-4e2e-d0ac-8e2ac6664739"
      },
      "source": [
        "cd data_science_bowl_2019"
      ],
      "execution_count": 7,
      "outputs": [
        {
          "output_type": "stream",
          "text": [
            "/content/data_science_bowl_2019\n"
          ],
          "name": "stdout"
        }
      ]
    },
    {
      "cell_type": "code",
      "metadata": {
        "id": "t74OVRtWSDej",
        "colab_type": "code",
        "colab": {
          "base_uri": "https://localhost:8080/",
          "height": 295
        },
        "outputId": "41498236-dc86-4291-c37a-2b220bd9e620"
      },
      "source": [
        "!kaggle competitions download -c data-science-bowl-2019"
      ],
      "execution_count": 8,
      "outputs": [
        {
          "output_type": "stream",
          "text": [
            "Warning: Looks like you're using an outdated API Version, please consider updating (server 1.5.6 / client 1.5.4)\n",
            "Downloading train.csv.zip to /content/data_science_bowl_2019\n",
            " 97% 384M/397M [00:05<00:00, 56.5MB/s]\n",
            "100% 397M/397M [00:05<00:00, 70.5MB/s]\n",
            "Downloading test.csv.zip to /content/data_science_bowl_2019\n",
            " 81% 33.0M/40.8M [00:01<00:00, 15.4MB/s]\n",
            "100% 40.8M/40.8M [00:01<00:00, 38.3MB/s]\n",
            "Downloading sample_submission.csv to /content/data_science_bowl_2019\n",
            "  0% 0.00/10.8k [00:00<?, ?B/s]\n",
            "100% 10.8k/10.8k [00:00<00:00, 12.2MB/s]\n",
            "Downloading train_labels.csv.zip to /content/data_science_bowl_2019\n",
            "  0% 0.00/262k [00:00<?, ?B/s]\n",
            "100% 262k/262k [00:00<00:00, 93.4MB/s]\n",
            "Downloading specs.csv to /content/data_science_bowl_2019\n",
            "  0% 0.00/399k [00:00<?, ?B/s]\n",
            "100% 399k/399k [00:00<00:00, 55.0MB/s]\n"
          ],
          "name": "stdout"
        }
      ]
    },
    {
      "cell_type": "code",
      "metadata": {
        "id": "ntr39ASISF_U",
        "colab_type": "code",
        "colab": {
          "base_uri": "https://localhost:8080/",
          "height": 51
        },
        "outputId": "93fd3ce0-9242-429e-86e0-a1ac514028a1"
      },
      "source": [
        "!ls"
      ],
      "execution_count": 9,
      "outputs": [
        {
          "output_type": "stream",
          "text": [
            "sample_submission.csv  test.csv.zip   train_labels.csv.zip\n",
            "specs.csv\t       train.csv.zip\n"
          ],
          "name": "stdout"
        }
      ]
    },
    {
      "cell_type": "code",
      "metadata": {
        "id": "Hk016OYWSLTP",
        "colab_type": "code",
        "colab": {
          "base_uri": "https://localhost:8080/",
          "height": 121
        },
        "outputId": "e5a22eae-9ccf-4b4f-bd7d-8139aad0c594"
      },
      "source": [
        "!unzip train_labels.csv.zip\n",
        "!unzip train.csv.zip\n",
        "!unzip test.csv.zip"
      ],
      "execution_count": 10,
      "outputs": [
        {
          "output_type": "stream",
          "text": [
            "Archive:  train_labels.csv.zip\n",
            "  inflating: train_labels.csv        \n",
            "Archive:  train.csv.zip\n",
            "  inflating: train.csv               \n",
            "Archive:  test.csv.zip\n",
            "  inflating: test.csv                \n"
          ],
          "name": "stdout"
        }
      ]
    },
    {
      "cell_type": "code",
      "metadata": {
        "id": "rN5crQ0MSOPA",
        "colab_type": "code",
        "colab": {}
      },
      "source": [
        "base_dir = '/content/data_science_bowl_2019/'"
      ],
      "execution_count": 0,
      "outputs": []
    },
    {
      "cell_type": "code",
      "metadata": {
        "id": "BT2ItJyqSfN-",
        "colab_type": "code",
        "colab": {}
      },
      "source": [
        "import pandas as pd\n",
        "import numpy as np\n",
        "from typing import Any\n",
        "import matplotlib.pyplot as plt\n",
        "import seaborn as sns\n",
        "%matplotlib inline\n"
      ],
      "execution_count": 0,
      "outputs": []
    },
    {
      "cell_type": "code",
      "metadata": {
        "id": "gJjBfRJqST8h",
        "colab_type": "code",
        "colab": {}
      },
      "source": [
        "def reduce_mem_usage(df, verbose=True):\n",
        "    numerics = ['int16', 'int32', 'int64', 'float16', 'float32', 'float64']\n",
        "    start_mem = df.memory_usage().sum() / 1024**2    \n",
        "    for col in df.columns:\n",
        "        col_type = df[col].dtypes\n",
        "        if col_type in numerics:\n",
        "            c_min = df[col].min()\n",
        "            c_max = df[col].max()\n",
        "            if str(col_type)[:3] == 'int':\n",
        "                if c_min > np.iinfo(np.int8).min and c_max < np.iinfo(np.int8).max:\n",
        "                    df[col] = df[col].astype(np.int8)\n",
        "                elif c_min > np.iinfo(np.int16).min and c_max < np.iinfo(np.int16).max:\n",
        "                    df[col] = df[col].astype(np.int16)\n",
        "                elif c_min > np.iinfo(np.int32).min and c_max < np.iinfo(np.int32).max:\n",
        "                    df[col] = df[col].astype(np.int32)\n",
        "                elif c_min > np.iinfo(np.int64).min and c_max < np.iinfo(np.int64).max:\n",
        "                    df[col] = df[col].astype(np.int64)  \n",
        "            else:\n",
        "                if c_min > np.finfo(np.float16).min and c_max < np.finfo(np.float16).max:\n",
        "                    df[col] = df[col].astype(np.float16)\n",
        "                elif c_min > np.finfo(np.float32).min and c_max < np.finfo(np.float32).max:\n",
        "                    df[col] = df[col].astype(np.float32)\n",
        "                else:\n",
        "                    df[col] = df[col].astype(np.float64)    \n",
        "    end_mem = df.memory_usage().sum() / 1024**2\n",
        "    if verbose: print('Mem. usage decreased to {:5.2f} Mb ({:.1f}% reduction)'.format(end_mem, 100 * (start_mem - end_mem) / start_mem))\n",
        "    return df"
      ],
      "execution_count": 0,
      "outputs": []
    },
    {
      "cell_type": "code",
      "metadata": {
        "id": "XKwvCSaGSdny",
        "colab_type": "code",
        "colab": {}
      },
      "source": [
        "def ifnone(a: Any, b: Any) -> Any:\n",
        "    \"\"\"`a` if `a` is not None, otherwise `b`.\n",
        "    from fastai: https://github.com/fastai/fastai/blob/master/fastai/core.py#L92\"\"\"\n",
        "    return b if a is None else a\n",
        "\n",
        "\n",
        "\n",
        "def add_datepart(df: pd.DataFrame, field_name: str,\n",
        "                 prefix: str = None, drop: bool = True, time: bool = True, date: bool = True):\n",
        "    \"\"\"\n",
        "    Helper function that adds columns relevant to a date in the column `field_name` of `df`.\n",
        "    from fastai: https://github.com/fastai/fastai/blob/master/fastai/tabular/transform.py#L55\n",
        "    \"\"\"\n",
        "    field = df[field_name]\n",
        "    prefix = ifnone(prefix, re.sub('[Dd]ate$', '', field_name))\n",
        "    attr = ['Year', 'Month', 'Week', 'Day', 'Dayofweek', 'Is_month_end', 'Is_month_start']\n",
        "    if date:\n",
        "        attr.append('Date')\n",
        "    if time:\n",
        "        attr = attr + ['Hour', 'Minute']\n",
        "    for n in attr:\n",
        "        df[prefix + n] = getattr(field.dt, n.lower())\n",
        "    if drop:\n",
        "        df.drop(field_name, axis=1, inplace=True)\n",
        "    return df"
      ],
      "execution_count": 0,
      "outputs": []
    },
    {
      "cell_type": "code",
      "metadata": {
        "id": "y8vLbQyoSt0w",
        "colab_type": "code",
        "colab": {}
      },
      "source": [
        "def extract_time_features(df):\n",
        "    df['timestamp'] = pd.to_datetime(df['timestamp'])\n",
        "    df['date'] = df['timestamp'].dt.date\n",
        "    df['month'] = df['timestamp'].dt.month\n",
        "    df['hour'] = df['timestamp'].dt.hour\n",
        "    df['year'] = df['timestamp'].dt.year\n",
        "    df['dayofweek'] = df['timestamp'].dt.dayofweek\n",
        "    df['weekofyear'] = df['timestamp'].dt.weekofyear\n",
        "    df['dayofyear'] = df['timestamp'].dt.dayofyear\n",
        "    df['quarter'] = df['timestamp'].dt.quarter\n",
        "    df['is_month_start'] = df['timestamp'].dt.is_month_start\n",
        "    df['is_month_end'] = df['timestamp'].dt.is_month_end \n",
        "    return df"
      ],
      "execution_count": 0,
      "outputs": []
    },
    {
      "cell_type": "code",
      "metadata": {
        "id": "IXvLkeEzSwzw",
        "colab_type": "code",
        "colab": {}
      },
      "source": [
        "def read_data():\n",
        "    print(f'Read data')\n",
        "    train_df = pd.read_csv(f'{base_dir}train.csv')\n",
        "   \n",
        "    test_df = pd.read_csv(base_dir+'test.csv')\n",
        "    train_labels_df = pd.read_csv(base_dir+'train_labels.csv')\n",
        "    specs_df = pd.read_csv(base_dir+'specs.csv')\n",
        "    sample_submission_df = pd.read_csv(base_dir+'sample_submission.csv')\n",
        "    \n",
        "    return train_df, test_df, train_labels_df, specs_df, sample_submission_df"
      ],
      "execution_count": 0,
      "outputs": []
    },
    {
      "cell_type": "code",
      "metadata": {
        "id": "qZTQYwSjS0eU",
        "colab_type": "code",
        "colab": {
          "base_uri": "https://localhost:8080/",
          "height": 34
        },
        "outputId": "e60e507c-941e-4af3-e8a8-a245a9520ca1"
      },
      "source": [
        "train_df, test_df, train_labels_df, specs_df, sample_submission_df = read_data()"
      ],
      "execution_count": 17,
      "outputs": [
        {
          "output_type": "stream",
          "text": [
            "Read data\n"
          ],
          "name": "stdout"
        }
      ]
    },
    {
      "cell_type": "code",
      "metadata": {
        "id": "mr3Q1qUvTSzx",
        "colab_type": "code",
        "colab": {
          "base_uri": "https://localhost:8080/",
          "height": 191
        },
        "outputId": "6b6d4847-ad1d-41a4-e993-24cca2a0cb6f"
      },
      "source": [
        "df_list = [train_df, test_df, train_labels_df, specs_df, sample_submission_df]\n",
        "df_names = ['train_df','test_df', 'train_labels_df', 'specs_df', 'sample_submission_df']\n",
        "for name, df in zip(df_names, df_list):\n",
        "  print(f'Shrinking {name}')\n",
        "  df = reduce_mem_usage(df)"
      ],
      "execution_count": 18,
      "outputs": [
        {
          "output_type": "stream",
          "text": [
            "Shrinking train_df\n",
            "Mem. usage decreased to 778.73 Mb (18.2% reduction)\n",
            "Shrinking test_df\n",
            "Mem. usage decreased to 79.40 Mb (18.2% reduction)\n",
            "Shrinking train_labels_df\n",
            "Mem. usage decreased to  0.49 Mb (48.2% reduction)\n",
            "Shrinking specs_df\n",
            "Mem. usage decreased to  0.01 Mb (0.0% reduction)\n",
            "Shrinking sample_submission_df\n",
            "Mem. usage decreased to  0.01 Mb (43.4% reduction)\n"
          ],
          "name": "stdout"
        }
      ]
    },
    {
      "cell_type": "code",
      "metadata": {
        "id": "Rh2LGtzgTx-s",
        "colab_type": "code",
        "colab": {
          "base_uri": "https://localhost:8080/",
          "height": 278
        },
        "outputId": "718757a3-42f0-4571-ab75-33a13daf86c6"
      },
      "source": [
        "!pip install category_encoders"
      ],
      "execution_count": 20,
      "outputs": [
        {
          "output_type": "stream",
          "text": [
            "Collecting category_encoders\n",
            "\u001b[?25l  Downloading https://files.pythonhosted.org/packages/a0/52/c54191ad3782de633ea3d6ee3bb2837bda0cf3bc97644bb6375cf14150a0/category_encoders-2.1.0-py2.py3-none-any.whl (100kB)\n",
            "\r\u001b[K     |███▎                            | 10kB 20.8MB/s eta 0:00:01\r\u001b[K     |██████▌                         | 20kB 1.8MB/s eta 0:00:01\r\u001b[K     |█████████▉                      | 30kB 2.6MB/s eta 0:00:01\r\u001b[K     |█████████████                   | 40kB 1.7MB/s eta 0:00:01\r\u001b[K     |████████████████▍               | 51kB 2.1MB/s eta 0:00:01\r\u001b[K     |███████████████████▋            | 61kB 2.5MB/s eta 0:00:01\r\u001b[K     |██████████████████████▉         | 71kB 2.9MB/s eta 0:00:01\r\u001b[K     |██████████████████████████▏     | 81kB 3.3MB/s eta 0:00:01\r\u001b[K     |█████████████████████████████▍  | 92kB 3.7MB/s eta 0:00:01\r\u001b[K     |████████████████████████████████| 102kB 2.4MB/s \n",
            "\u001b[?25hRequirement already satisfied: patsy>=0.4.1 in /usr/local/lib/python3.6/dist-packages (from category_encoders) (0.5.1)\n",
            "Requirement already satisfied: statsmodels>=0.6.1 in /usr/local/lib/python3.6/dist-packages (from category_encoders) (0.10.1)\n",
            "Requirement already satisfied: scikit-learn>=0.20.0 in /usr/local/lib/python3.6/dist-packages (from category_encoders) (0.21.3)\n",
            "Requirement already satisfied: pandas>=0.21.1 in /usr/local/lib/python3.6/dist-packages (from category_encoders) (0.25.3)\n",
            "Requirement already satisfied: scipy>=0.19.0 in /usr/local/lib/python3.6/dist-packages (from category_encoders) (1.3.2)\n",
            "Requirement already satisfied: numpy>=1.11.3 in /usr/local/lib/python3.6/dist-packages (from category_encoders) (1.17.4)\n",
            "Requirement already satisfied: six in /usr/local/lib/python3.6/dist-packages (from patsy>=0.4.1->category_encoders) (1.12.0)\n",
            "Requirement already satisfied: joblib>=0.11 in /usr/local/lib/python3.6/dist-packages (from scikit-learn>=0.20.0->category_encoders) (0.14.0)\n",
            "Requirement already satisfied: pytz>=2017.2 in /usr/local/lib/python3.6/dist-packages (from pandas>=0.21.1->category_encoders) (2018.9)\n",
            "Requirement already satisfied: python-dateutil>=2.6.1 in /usr/local/lib/python3.6/dist-packages (from pandas>=0.21.1->category_encoders) (2.6.1)\n",
            "Installing collected packages: category-encoders\n",
            "Successfully installed category-encoders-2.1.0\n"
          ],
          "name": "stdout"
        }
      ]
    },
    {
      "cell_type": "code",
      "metadata": {
        "id": "JX-pgC59S551",
        "colab_type": "code",
        "colab": {}
      },
      "source": [
        "from category_encoders.ordinal import OrdinalEncoder"
      ],
      "execution_count": 0,
      "outputs": []
    },
    {
      "cell_type": "code",
      "metadata": {
        "id": "upB4slxMT15N",
        "colab_type": "code",
        "colab": {
          "base_uri": "https://localhost:8080/",
          "height": 191
        },
        "outputId": "5e175599-5e81-4036-87bf-1960169df14d"
      },
      "source": [
        "title_oe = OrdinalEncoder()\n",
        "title_oe.fit(list(set(\\\n",
        "                      train_df['title'].unique()\\\n",
        "                      )\\\n",
        "                  .union(\\\n",
        "                         set(\\\n",
        "                             test_df['title'].unique()\\\n",
        "                             )\\\n",
        "                         )\\\n",
        "                  )\\\n",
        "             )\n",
        "\n",
        "world_oe = OrdinalEncoder()\n",
        "world_oe.fit(list(set(\\\n",
        "                      train_df['world'].unique()\\\n",
        "                      )\\\n",
        "                  .union(\\\n",
        "                         set(\\\n",
        "                             test_df['world'].unique()\\\n",
        "                             )\\\n",
        "                         )\\\n",
        "                  )\\\n",
        "             )   "
      ],
      "execution_count": 22,
      "outputs": [
        {
          "output_type": "execute_result",
          "data": {
            "text/plain": [
              "OrdinalEncoder(cols=[0], drop_invariant=False, handle_missing='value',\n",
              "               handle_unknown='value',\n",
              "               mapping=[{'col': 0, 'data_type': dtype('O'),\n",
              "                         'mapping': NONE            1\n",
              "CRYSTALCAVES    2\n",
              "TREETOPCITY     3\n",
              "MAGMAPEAK       4\n",
              "NaN            -2\n",
              "dtype: int64}],\n",
              "               return_df=True, verbose=0)"
            ]
          },
          "metadata": {
            "tags": []
          },
          "execution_count": 22
        }
      ]
    },
    {
      "cell_type": "code",
      "metadata": {
        "id": "JrWo6SOnT6bD",
        "colab_type": "code",
        "colab": {}
      },
      "source": [
        "def add_attempts_corrects(df, title_oe, world_oe):\n",
        "  df['timestamp'] = pd.to_datetime(df['timestamp'])\n",
        "  df['attempt'] = 0\n",
        "  df.loc[(df['title'] == 'Bird Measurer (Assessment)') & (df['event_code'] == 4110), 'attempt'] = 1\n",
        "  df.loc[(df['type'] == 'Assessment') & (df['title'] != 'Bird Measurer (Assessment)') & (df['event_code'] == 4100), 'attempt'] = 1\n",
        "\n",
        "  df['correct'] = None\n",
        "  df.loc[(df['attempt'] == 1) & (df['event_data'].str.contains('\"correct\":true')), 'correct'] = True\n",
        "  df.loc[(df['attempt'] == 1) & (df['event_data'].str.contains('\"correct\":false')), 'correct'] = False\n",
        "\n",
        "  df['title'] = title_oe.transform(df['title'].values)\n",
        "  df['world'] = world_oe.transform(df['world'].values)\n",
        "  return df"
      ],
      "execution_count": 0,
      "outputs": []
    },
    {
      "cell_type": "code",
      "metadata": {
        "id": "2bA0KCpGUFhE",
        "colab_type": "code",
        "colab": {}
      },
      "source": [
        "train_df = add_attempts_corrects(train_df, title_oe, world_oe)\n",
        "test_df = add_attempts_corrects(test_df, title_oe, world_oe)\n",
        "\n",
        "train_df = train_df.loc[train_df['installation_id'].isin(train_labels_df['installation_id'].unique())]"
      ],
      "execution_count": 0,
      "outputs": []
    },
    {
      "cell_type": "code",
      "metadata": {
        "id": "kZ6RlDOxUZPR",
        "colab_type": "code",
        "colab": {}
      },
      "source": [
        "import xgboost as xgb"
      ],
      "execution_count": 0,
      "outputs": []
    },
    {
      "cell_type": "code",
      "metadata": {
        "id": "CcHsYy5HUgof",
        "colab_type": "code",
        "colab": {}
      },
      "source": [
        "class XGBWrapper(object):\n",
        "    \"\"\"\n",
        "    A wrapper for xgboost model so that we will have a single api for various models.\n",
        "    \"\"\"\n",
        "\n",
        "    def __init__(self):\n",
        "        self.model = xgb.XGBClassifier()\n",
        "\n",
        "    def fit(self, X_train, y_train, X_valid=None, y_valid=None, X_holdout=None, y_holdout=None, params=None):\n",
        "\n",
        "        eval_set = [(X_train, y_train)]\n",
        "        self.model = self.model.set_params(**params)\n",
        "\n",
        "        if X_valid is not None:\n",
        "            eval_set.append((X_valid, y_valid))\n",
        "\n",
        "        if X_holdout is not None:\n",
        "            eval_set.append((X_holdout, y_holdout))\n",
        "\n",
        "        self.model.fit(X=X_train, y=y_train,\n",
        "                       eval_set=eval_set, eval_metric=eval_qwk_xgb,\n",
        "                       verbose=params['verbose'], early_stopping_rounds=params['early_stopping_rounds'])\n",
        "\n",
        "        scores = self.model.evals_result()\n",
        "        self.best_score_ = {k: {m: m_v[-1] for m, m_v in v.items()} for k, v in scores.items()}\n",
        "        self.best_score_ = {k: {m: n if m != 'cappa' else -n for m, n in v.items()} for k, v in self.best_score_.items()}\n",
        "\n",
        "        self.feature_importances_ = self.model.feature_importances_\n",
        "\n",
        "    def predict_proba(self, X_test):\n",
        "        if self.model.objective == 'binary':\n",
        "            return self.model.predict_proba(X_test, ntree_limit=self.model.best_iteration)[:, 1]\n",
        "        else:\n",
        "            return self.model.predict_proba(X_test, ntree_limit=self.model.best_iteration)"
      ],
      "execution_count": 0,
      "outputs": []
    },
    {
      "cell_type": "code",
      "metadata": {
        "id": "tCzozvfXVoLp",
        "colab_type": "code",
        "colab": {}
      },
      "source": [
        "class ClassifierModel(object):\n",
        "    \"\"\"\n",
        "    A wrapper class for classification models.\n",
        "    It can be used for training and prediction.\n",
        "    Can plot feature importance and training progress (if relevant for model).\n",
        "\n",
        "    \"\"\"\n",
        "\n",
        "    def __init__(self, columns: list = None, model_wrapper=None):\n",
        "        \"\"\"\n",
        "\n",
        "        :param original_columns:\n",
        "        :param model_wrapper:\n",
        "        \"\"\"\n",
        "        self.columns = columns\n",
        "        self.model_wrapper = model_wrapper\n",
        "        self.result_dict = {}\n",
        "        self.train_one_fold = False\n",
        "        self.preprocesser = None\n",
        "\n",
        "    def fit(self, X: pd.DataFrame, y,\n",
        "            X_holdout: pd.DataFrame = None, y_holdout=None,\n",
        "            folds=None,\n",
        "            params: dict = None,\n",
        "            eval_metric='auc',\n",
        "            cols_to_drop: list = None,\n",
        "            preprocesser=None,\n",
        "            transformers: dict = None,\n",
        "            adversarial: bool = False,\n",
        "            plot: bool = True):\n",
        "        \"\"\"\n",
        "        Training the model.\n",
        "\n",
        "        :param X: training data\n",
        "        :param y: training target\n",
        "        :param X_holdout: holdout data\n",
        "        :param y_holdout: holdout target\n",
        "        :param folds: folds to split the data. If not defined, then model will be trained on the whole X\n",
        "        :param params: training parameters\n",
        "        :param eval_metric: metric for validataion\n",
        "        :param cols_to_drop: list of columns to drop (for example ID)\n",
        "        :param preprocesser: preprocesser class\n",
        "        :param transformers: transformer to use on folds\n",
        "        :param adversarial\n",
        "        :return:\n",
        "        \"\"\"\n",
        "\n",
        "        if folds is None:\n",
        "            folds = KFold(n_splits=3, random_state=42)\n",
        "            self.train_one_fold = True\n",
        "\n",
        "        self.columns = X.columns if self.columns is None else self.columns\n",
        "        self.feature_importances = pd.DataFrame(columns=['feature', 'importance'])\n",
        "        self.trained_transformers = {k: [] for k in transformers}\n",
        "        self.transformers = transformers\n",
        "        self.models = []\n",
        "        self.folds_dict = {}\n",
        "        self.eval_metric = eval_metric\n",
        "        n_target = 4# 1 if len(set(y.values)) == 2 else len(set(y.values))\n",
        "        self.oof = np.zeros((len(X), n_target))\n",
        "        self.n_target = n_target\n",
        "\n",
        "        X = X[self.columns]\n",
        "        if X_holdout is not None:\n",
        "            X_holdout = X_holdout[self.columns]\n",
        "\n",
        "        if preprocesser is not None:\n",
        "            self.preprocesser = preprocesser\n",
        "            self.preprocesser.fit(X, y)\n",
        "            X = self.preprocesser.transform(X, y)\n",
        "            self.columns = X.columns.tolist()\n",
        "            if X_holdout is not None:\n",
        "                X_holdout = self.preprocesser.transform(X_holdout)\n",
        "            # y = X['accuracy_group']\n",
        "\n",
        "        for fold_n, (train_index, valid_index) in enumerate(folds.split(X, y, X['installation_id'])):\n",
        "            if X_holdout is not None:\n",
        "                X_hold = X_holdout.copy()\n",
        "            else:\n",
        "                X_hold = None\n",
        "            self.folds_dict[fold_n] = {}\n",
        "            if params['verbose']:\n",
        "                print(f'Fold {fold_n + 1} started at {time.ctime()}')\n",
        "            self.folds_dict[fold_n] = {}\n",
        "\n",
        "            X_train, X_valid = X.iloc[train_index], X.iloc[valid_index]\n",
        "            y_train, y_valid = y.iloc[train_index], y.iloc[valid_index]\n",
        "            if self.train_one_fold:\n",
        "                X_train = X[self.original_columns]\n",
        "                y_train = y\n",
        "                X_valid = None\n",
        "                y_valid = None\n",
        "\n",
        "            datasets = {'X_train': X_train, 'X_valid': X_valid, 'X_holdout': X_hold, 'y_train': y_train}\n",
        "            X_train, X_valid, X_hold = self.transform_(datasets, cols_to_drop)\n",
        "\n",
        "            self.folds_dict[fold_n]['columns'] = X_train.columns.tolist()\n",
        "\n",
        "            model = copy.deepcopy(self.model_wrapper)\n",
        "\n",
        "            if adversarial:\n",
        "                X_new1 = X_train.copy()\n",
        "                if X_valid is not None:\n",
        "                    X_new2 = X_valid.copy()\n",
        "                elif X_holdout is not None:\n",
        "                    X_new2 = X_holdout.copy()\n",
        "                X_new = pd.concat([X_new1, X_new2], axis=0)\n",
        "                y_new = np.hstack((np.zeros((X_new1.shape[0])), np.ones((X_new2.shape[0]))))\n",
        "                X_train, X_valid, y_train, y_valid = train_test_split(X_new, y_new)\n",
        "\n",
        "            model.fit(X_train, y_train, X_valid, y_valid, X_hold, y_holdout, params=params)\n",
        "\n",
        "            self.folds_dict[fold_n]['scores'] = model.best_score_\n",
        "            if self.oof.shape[0] != len(X):\n",
        "                self.oof = np.zeros((X.shape[0], self.oof.shape[1]))\n",
        "            if not adversarial:\n",
        "                self.oof[valid_index] = model.predict_proba(X_valid).reshape(-1, n_target)\n",
        "\n",
        "            fold_importance = pd.DataFrame(list(zip(X_train.columns, model.feature_importances_)),\n",
        "                                           columns=['feature', 'importance'])\n",
        "            self.feature_importances = self.feature_importances.append(fold_importance)\n",
        "            self.models.append(model)\n",
        "\n",
        "        self.feature_importances['importance'] = self.feature_importances['importance'].astype(float)\n",
        "\n",
        "        # if params['verbose']:\n",
        "        self.calc_scores_()\n",
        "\n",
        "        if plot:\n",
        "            print(classification_report(y, self.oof.argmax(1)))\n",
        "            fig, ax = plt.subplots(figsize=(16, 12))\n",
        "            plt.subplot(2, 2, 1)\n",
        "            self.plot_feature_importance(top_n=25)\n",
        "            plt.subplot(2, 2, 2)\n",
        "            self.plot_metric()\n",
        "            plt.subplot(2, 2, 3)\n",
        "            g = sns.heatmap(confusion_matrix(y, self.oof.argmax(1)), annot=True, cmap=plt.cm.Blues,fmt=\"d\")\n",
        "            g.set(ylim=(-0.5, 4), xlim=(-0.5, 4), title='Confusion matrix')\n",
        "\n",
        "            plt.subplot(2, 2, 4)\n",
        "            plt.hist(self.oof.argmax(1))\n",
        "            plt.xticks(range(self.n_target), range(self.n_target))\n",
        "            plt.title('Distribution of oof predictions');\n",
        "\n",
        "    def transform_(self, datasets, cols_to_drop):\n",
        "        for name, transformer in self.transformers.items():\n",
        "            transformer.fit(datasets['X_train'], datasets['y_train'])\n",
        "            datasets['X_train'] = transformer.transform(datasets['X_train'])\n",
        "            if datasets['X_valid'] is not None:\n",
        "                datasets['X_valid'] = transformer.transform(datasets['X_valid'])\n",
        "            if datasets['X_holdout'] is not None:\n",
        "                datasets['X_holdout'] = transformer.transform(datasets['X_holdout'])\n",
        "            self.trained_transformers[name].append(transformer)\n",
        "        if cols_to_drop is not None:\n",
        "            cols_to_drop = [col for col in cols_to_drop if col in datasets['X_train'].columns]\n",
        "            self.cols_to_drop = cols_to_drop\n",
        "            datasets['X_train'] = datasets['X_train'].drop(cols_to_drop, axis=1)\n",
        "            if datasets['X_valid'] is not None:\n",
        "                datasets['X_valid'] = datasets['X_valid'].drop(cols_to_drop, axis=1)\n",
        "            if datasets['X_holdout'] is not None:\n",
        "                datasets['X_holdout'] = datasets['X_holdout'].drop(cols_to_drop, axis=1)\n",
        "\n",
        "        return datasets['X_train'], datasets['X_valid'], datasets['X_holdout']\n",
        "\n",
        "    def calc_scores_(self):\n",
        "        print()\n",
        "        datasets = [k for k, v in [v['scores'] for k, v in self.folds_dict.items()][0].items() if len(v) > 0]\n",
        "        self.scores = {}\n",
        "        for d in datasets:\n",
        "            scores = [v['scores'][d][self.eval_metric] for k, v in self.folds_dict.items()]\n",
        "            print(f\"CV mean score on {d}: {np.mean(scores):.4f} +/- {np.std(scores):.4f} std.\")\n",
        "            self.scores[d] = np.mean(scores)\n",
        "\n",
        "    def predict(self, X_test, averaging: str = 'usual'):\n",
        "        \"\"\"\n",
        "        Make prediction\n",
        "\n",
        "        :param X_test:\n",
        "        :param averaging: method of averaging\n",
        "        :return:\n",
        "        \"\"\"\n",
        "        full_prediction = np.zeros((X_test.shape[0], self.oof.shape[1]))\n",
        "        if self.preprocesser is not None:\n",
        "            X_test = self.preprocesser.transform(X_test)\n",
        "        for i in range(len(self.models)):\n",
        "            X_t = X_test.copy()\n",
        "            for name, transformers in self.trained_transformers.items():\n",
        "                X_t = transformers[i].transform(X_t)\n",
        "\n",
        "            cols_to_drop = [col for col in self.cols_to_drop if col in X_t.columns]\n",
        "            X_t = X_t.drop(cols_to_drop, axis=1)\n",
        "            y_pred = self.models[i].predict_proba(X_t[self.folds_dict[i]['columns']]).reshape(-1, full_prediction.shape[1])\n",
        "\n",
        "            # if case transformation changes the number of the rows\n",
        "            if full_prediction.shape[0] != len(y_pred):\n",
        "                full_prediction = np.zeros((y_pred.shape[0], self.oof.shape[1]))\n",
        "\n",
        "            if averaging == 'usual':\n",
        "                full_prediction += y_pred\n",
        "            elif averaging == 'rank':\n",
        "                full_prediction += pd.Series(y_pred).rank().values\n",
        "\n",
        "        return full_prediction / len(self.models)\n",
        "\n",
        "    def plot_feature_importance(self, drop_null_importance: bool = True, top_n: int = 10):\n",
        "        \"\"\"\n",
        "        Plot default feature importance.\n",
        "\n",
        "        :param drop_null_importance: drop columns with null feature importance\n",
        "        :param top_n: show top n columns\n",
        "        :return:\n",
        "        \"\"\"\n",
        "\n",
        "        top_feats = self.get_top_features(drop_null_importance, top_n)\n",
        "        feature_importances = self.feature_importances.loc[self.feature_importances['feature'].isin(top_feats)]\n",
        "        feature_importances['feature'] = feature_importances['feature'].astype(str)\n",
        "        top_feats = [str(i) for i in top_feats]\n",
        "        sns.barplot(data=feature_importances, x='importance', y='feature', orient='h', order=top_feats)\n",
        "        plt.title('Feature importances')\n",
        "\n",
        "    def get_top_features(self, drop_null_importance: bool = True, top_n: int = 10):\n",
        "        \"\"\"\n",
        "        Get top features by importance.\n",
        "\n",
        "        :param drop_null_importance:\n",
        "        :param top_n:\n",
        "        :return:\n",
        "        \"\"\"\n",
        "        grouped_feats = self.feature_importances.groupby(['feature'])['importance'].mean()\n",
        "        if drop_null_importance:\n",
        "            grouped_feats = grouped_feats[grouped_feats != 0]\n",
        "        return list(grouped_feats.sort_values(ascending=False).index)[:top_n]\n",
        "\n",
        "    def plot_metric(self):\n",
        "        \"\"\"\n",
        "        Plot training progress.\n",
        "        Inspired by `plot_metric` from https://lightgbm.readthedocs.io/en/latest/_modules/lightgbm/plotting.html\n",
        "\n",
        "        :return:\n",
        "        \"\"\"\n",
        "        full_evals_results = pd.DataFrame()\n",
        "        for model in self.models:\n",
        "            evals_result = pd.DataFrame()\n",
        "            for k in model.model.evals_result_.keys():\n",
        "                evals_result[k] = model.model.evals_result_[k][self.eval_metric]\n",
        "            evals_result = evals_result.reset_index().rename(columns={'index': 'iteration'})\n",
        "            full_evals_results = full_evals_results.append(evals_result)\n",
        "\n",
        "        full_evals_results = full_evals_results.melt(id_vars=['iteration']).rename(columns={'value': self.eval_metric,\n",
        "                                                                                            'variable': 'dataset'})\n",
        "        full_evals_results[self.eval_metric] = np.abs(full_evals_results[self.eval_metric])\n",
        "        sns.lineplot(data=full_evals_results, x='iteration', y=self.eval_metric, hue='dataset')\n",
        "        plt.title('Training progress')"
      ],
      "execution_count": 0,
      "outputs": []
    },
    {
      "cell_type": "code",
      "metadata": {
        "id": "-hxGPJ-3WNdr",
        "colab_type": "code",
        "colab": {}
      },
      "source": [
        "from joblib import Parallel, delayed\n",
        "from collections import defaultdict\n",
        "import copy"
      ],
      "execution_count": 0,
      "outputs": []
    },
    {
      "cell_type": "code",
      "metadata": {
        "id": "8b2IcQq4V8Vv",
        "colab_type": "code",
        "colab": {}
      },
      "source": [
        "class FeatureGenerator(object):\n",
        "    def __init__(self, n_jobs=1, df=None, dataset: str = 'train'):\n",
        "        self.n_jobs = n_jobs\n",
        "        self.df = df\n",
        "        self.dataset = dataset\n",
        "\n",
        "    def read_chunks(self):\n",
        "        for id, user_sample in self.df.groupby('installation_id', sort=False):\n",
        "            yield id, user_sample\n",
        "\n",
        "    def get_features(self, row):\n",
        "        \"\"\"\n",
        "        Gets three groups of features: from original data and from reald and imaginary parts of FFT.\n",
        "        \"\"\"\n",
        "        return self.features(row)\n",
        "\n",
        "    def features(self, id, user_sample):\n",
        "        user_data = []\n",
        "\n",
        "        accuracy_mapping = {0: 0, 1: 3, 0.5: 2}\n",
        "\n",
        "        user_stats = defaultdict(int)\n",
        "        user_stats['installation_id'] = user_sample['installation_id'].unique()[0]\n",
        "        user_stats['world'] = user_sample['world'].unique()[0]\n",
        "        user_stats['timestamp'] = user_sample['timestamp'].unique()[0]\n",
        "\n",
        "        temp_dict = defaultdict(int)\n",
        "        another_temp_dict = {}\n",
        "        another_temp_dict['durations'] = []\n",
        "        another_temp_dict['all_durations'] = []\n",
        "        another_temp_dict['durations_with_attempts'] = []\n",
        "        another_temp_dict['mean_action_time'] = []\n",
        "        title_data = defaultdict(dict)\n",
        "\n",
        "        for i, session in user_sample.groupby('game_session', sort=False):\n",
        "            user_stats['last_ass_session_game_time'] = another_temp_dict['durations'][-1] if len(another_temp_dict['durations']) > 0 else 0\n",
        "            user_stats['last_session_game_time'] = another_temp_dict['all_durations'][-1] if len(another_temp_dict['all_durations']) > 0 else 0\n",
        "\n",
        "            # calculate some user_stats and append data\n",
        "            if session['attempt'].sum() > 0 or self.dataset == 'test':\n",
        "                user_stats['session_title'] = session['title'].values[0]\n",
        "                accuracy = np.nan_to_num(session['correct'].sum() / session['attempt'].sum())\n",
        "                if accuracy in accuracy_mapping.keys():\n",
        "                    user_stats['accuracy_group'] = accuracy_mapping[accuracy]\n",
        "                else:\n",
        "                    user_stats['accuracy_group'] = 1\n",
        "                user_stats['accumulated_accuracy_group'] = temp_dict['accumulated_accuracy_group'] / user_stats['counter'] if user_stats['counter'] > 0 else 0\n",
        "                temp_dict['accumulated_accuracy_group'] += user_stats['accuracy_group']\n",
        "                user_data.append(copy.copy(user_stats))\n",
        "\n",
        "            user_stats[session['type'].values[-1]] += 1\n",
        "            user_stats['accumulated_correct_attempts'] += session['correct'].sum()\n",
        "            user_stats['accumulated_uncorrect_attempts'] += session['attempt'].sum() - session['correct'].sum()\n",
        "            event_code_counts = session['event_code'].value_counts()\n",
        "            for i, j in zip(event_code_counts.index, event_code_counts.values):\n",
        "                user_stats[i] += j\n",
        "\n",
        "            temp_dict['assessment_counter'] += 1\n",
        "            if session['title'].values[-1] in title_data.keys():\n",
        "                pass\n",
        "            else:\n",
        "                title_data[session['title'].values[-1]] = defaultdict(int)\n",
        "\n",
        "            title_data[session['title'].values[-1]]['duration_all'] += session['game_time'].values[-1]\n",
        "            title_data[session['title'].values[-1]]['counter_all'] += 1\n",
        "            #user_stats['duration'] += (session['timestamp'].values[-1] - session['timestamp'].values[0]) / np.timedelta64(1, 's')\n",
        "\n",
        "            user_stats['duration'] = (session.iloc[-1,2] - session.iloc[0,2]).seconds\n",
        "            if session['type'].values[0] == 'Assessment' and (len(session) > 1 or self.dataset == 'test'):\n",
        "                another_temp_dict['durations'].append(user_stats['duration'])\n",
        "                accuracy = np.nan_to_num(session['correct'].sum() / session['attempt'].sum())\n",
        "                user_stats['accumulated_accuracy_'] += accuracy\n",
        "                user_stats['counter'] += 1\n",
        "                if user_stats['counter'] == 0:\n",
        "                    user_stats['accumulated_accuracy'] = 0\n",
        "                else:\n",
        "                    user_stats['accumulated_accuracy'] = user_stats['accumulated_accuracy_'] / user_stats['counter']\n",
        "\n",
        "                accuracy = np.nan_to_num(session['correct'].sum() / session['attempt'].sum())\n",
        "\n",
        "                if accuracy in accuracy_mapping.keys():\n",
        "                    user_stats[accuracy_mapping[accuracy]] += 1\n",
        "                else:\n",
        "                    user_stats[1] += 1\n",
        "\n",
        "                user_stats['accumulated_actions'] += len(session)\n",
        "\n",
        "                if session['attempt'].sum() > 0:\n",
        "                    user_stats['sessions_with_attempts'] += 1\n",
        "                    another_temp_dict['durations_with_attempts'].append(user_stats['duration'])\n",
        "\n",
        "                if session['correct'].sum() > 0:\n",
        "                    user_stats['sessions_with_correct_attempts'] += 1\n",
        "                    \n",
        "                user_stats['title_duration'] = title_data[session['title'].values[-1]]['duration']\n",
        "                user_stats['title_counter'] = title_data[session['title'].values[-1]]['counter']\n",
        "                user_stats['title_mean_duration'] = user_stats['title_duration'] / user_stats['title_mean_duration']  if user_stats['title_mean_duration'] > 0 else 0\n",
        "\n",
        "                user_stats['title_duration_all'] = title_data[session['title'].values[-1]]['duration_all']\n",
        "                user_stats['title_counter_all'] = title_data[session['title'].values[-1]]['counter_all']\n",
        "                user_stats['title_mean_duration_all'] = user_stats['title_duration_all'] / user_stats['title_mean_duration_all']  if user_stats['title_mean_duration_all'] > 0 else 0\n",
        "                \n",
        "                title_data[session['title'].values[-1]]['duration'] += session['game_time'].values[-1]\n",
        "                title_data[session['title'].values[-1]]['counter'] += 1\n",
        "\n",
        "            elif (len(session) > 1 or self.dataset == 'test'):\n",
        "                another_temp_dict['all_durations'].append(user_stats['duration'])\n",
        "\n",
        "\n",
        "            if user_stats['duration'] != 0:\n",
        "                temp_dict['nonzero_duration_assessment_counter'] += 1\n",
        "            #user_stats['duration_mean'] = user_stats['duration'] / max(temp_dict['nonzero_duration_assessment_counter'], 1)\n",
        "            # stats from assessment sessions\n",
        "            user_stats['duration_mean'] = np.mean(another_temp_dict['durations'])\n",
        "            user_stats['duration_attempts'] = np.mean(another_temp_dict['durations_with_attempts'])\n",
        "\n",
        "            # stats from all sessions\n",
        "            user_stats['all_duration_mean'] = np.mean(another_temp_dict['all_durations'])\n",
        "            user_stats['all_accumulated_actions'] += len(session)\n",
        "            user_stats['mean_action_time'] = np.mean(another_temp_dict['mean_action_time'])\n",
        "            another_temp_dict['mean_action_time'].append(session['game_time'].values[-1] / len(session))\n",
        "\n",
        "\n",
        "        if self.dataset == 'test':\n",
        "            user_data = [user_data[-1]]\n",
        "\n",
        "        return user_data\n",
        "\n",
        "    def generate(self):\n",
        "        feature_list = []\n",
        "#         res = Parallel(n_jobs=self.n_jobs, backend='threading')(delayed(self.features)(id, user_sample)\n",
        "#                                                                 for id, user_sample in tqdm(self.read_chunks(),\n",
        "#                                                                                             total=self.df[\n",
        "#                                                                                                 'installation_id'].nunique()))\n",
        "        res = Parallel(n_jobs=self.n_jobs, backend='threading')(delayed(self.features)(id, user_sample)\n",
        "                                                                for id, user_sample in self.read_chunks())\n",
        "        for r in res:\n",
        "            for r1 in r:\n",
        "                feature_list.append(r1)\n",
        "        return pd.DataFrame(feature_list)"
      ],
      "execution_count": 0,
      "outputs": []
    },
    {
      "cell_type": "code",
      "metadata": {
        "id": "cOGRYP7nWURk",
        "colab_type": "code",
        "colab": {
          "base_uri": "https://localhost:8080/",
          "height": 156
        },
        "outputId": "576fcdda-9ee9-484d-be05-0c5e1e2286fd"
      },
      "source": [
        "%%time\n",
        "fg = FeatureGenerator(n_jobs=2, df=train_df)\n",
        "data = fg.generate()\n",
        "data = data.fillna(0)"
      ],
      "execution_count": 35,
      "outputs": [
        {
          "output_type": "stream",
          "text": [
            "/usr/local/lib/python3.6/dist-packages/numpy/core/_methods.py:161: RuntimeWarning: invalid value encountered in double_scalars\n",
            "  ret = ret.dtype.type(ret / rcount)\n",
            "/usr/local/lib/python3.6/dist-packages/numpy/core/fromnumeric.py:3257: RuntimeWarning: Mean of empty slice.\n",
            "  out=out, **kwargs)\n",
            "/usr/local/lib/python3.6/dist-packages/ipykernel_launcher.py:71: RuntimeWarning: invalid value encountered in long_scalars\n",
            "/usr/local/lib/python3.6/dist-packages/ipykernel_launcher.py:79: RuntimeWarning: invalid value encountered in long_scalars\n"
          ],
          "name": "stderr"
        },
        {
          "output_type": "stream",
          "text": [
            "CPU times: user 10min 39s, sys: 43 s, total: 11min 22s\n",
            "Wall time: 10min 21s\n"
          ],
          "name": "stdout"
        }
      ]
    },
    {
      "cell_type": "code",
      "metadata": {
        "id": "_ZP9fSHUWiSZ",
        "colab_type": "code",
        "colab": {}
      },
      "source": [
        "import gc\n",
        "import re\n",
        "from sklearn.base import BaseEstimator, TransformerMixin\n",
        "from sklearn.model_selection import StratifiedKFold, KFold, RepeatedKFold, GroupKFold, GridSearchCV, train_test_split, TimeSeriesSplit, RepeatedStratifiedKFold\n"
      ],
      "execution_count": 0,
      "outputs": []
    },
    {
      "cell_type": "code",
      "metadata": {
        "id": "LaDdcpWiXkjY",
        "colab_type": "code",
        "colab": {}
      },
      "source": [
        "del train_df\n",
        "gc.collect()"
      ],
      "execution_count": 0,
      "outputs": []
    },
    {
      "cell_type": "code",
      "metadata": {
        "id": "_wfTjhq9Wo1-",
        "colab_type": "code",
        "colab": {}
      },
      "source": [
        "class MainTransformer(BaseEstimator, TransformerMixin):\n",
        "\n",
        "    def __init__(self, convert_cyclical: bool = False, create_interactions: bool = False, n_interactions: int = 20):\n",
        "        \"\"\"\n",
        "        Main transformer for the data. Can be used for processing on the whole data.\n",
        "\n",
        "        :param convert_cyclical: convert cyclical features into continuous\n",
        "        :param create_interactions: create interactions between features\n",
        "        \"\"\"\n",
        "\n",
        "        self.convert_cyclical = convert_cyclical\n",
        "        self.create_interactions = create_interactions\n",
        "        self.feats_for_interaction = None\n",
        "        self.n_interactions = n_interactions\n",
        "\n",
        "    def fit(self, X, y=None):\n",
        "\n",
        "        if self.create_interactions:\n",
        "            self.feats_for_interaction = [col for col in X.columns if 'sum' in col\n",
        "                                          or 'mean' in col or 'max' in col or 'std' in col\n",
        "                                          or 'attempt' in col]\n",
        "            self.feats_for_interaction1 = np.random.choice(self.feats_for_interaction, self.n_interactions)\n",
        "            self.feats_for_interaction2 = np.random.choice(self.feats_for_interaction, self.n_interactions)\n",
        "\n",
        "        return self\n",
        "\n",
        "    def transform(self, X, y=None):\n",
        "        data = copy.deepcopy(X)\n",
        "        if self.create_interactions:\n",
        "            for col1 in self.feats_for_interaction1:\n",
        "                for col2 in self.feats_for_interaction2:\n",
        "                    data[f'{col1}_int_{col2}'] = data[col1] * data[col2]\n",
        "\n",
        "        if self.convert_cyclical:\n",
        "            data['timestampHour'] = np.sin(2 * np.pi * data['timestampHour'] / 23.0)\n",
        "            data['timestampMonth'] = np.sin(2 * np.pi * data['timestampMonth'] / 23.0)\n",
        "            data['timestampWeek'] = np.sin(2 * np.pi * data['timestampWeek'] / 23.0)\n",
        "            data['timestampMinute'] = np.sin(2 * np.pi * data['timestampMinute'] / 23.0)\n",
        "\n",
        "        data['installation_session_count'] = data.groupby(['installation_id'])['Clip'].transform('count')\n",
        "        data['installation_duration_mean'] = data.groupby(['installation_id'])['duration_mean'].transform('mean')\n",
        "        data['installation_title_nunique'] = data.groupby(['installation_id'])['session_title'].transform('nunique')\n",
        "\n",
        "        data['sum_event_code_count'] = data[['2000', '3010', '3110', '4070', '4090', '4030', '4035', '4021', '4020', '4010', '2080', '2083', '2040', '2020', '2030', '3021', '3121', '2050', '3020', '3120', '2060', '2070', '4031', '4025', '5000', '5010', '2081', '2025', '4022', '2035', '4040', '4100', '2010', '4110', '4045', '4095', '4220', '2075', '4230', '4235', '4080', '4050']].sum(axis=1)\n",
        "\n",
        "        # data['installation_event_code_count_mean'] = data.groupby(['installation_id'])['sum_event_code_count'].transform('mean')\n",
        "\n",
        "        return data\n",
        "\n",
        "    def fit_transform(self, X, y=None, **fit_params):\n",
        "        data = copy.deepcopy(X)\n",
        "        self.fit(data)\n",
        "        return self.transform(data)\n"
      ],
      "execution_count": 0,
      "outputs": []
    },
    {
      "cell_type": "code",
      "metadata": {
        "id": "wsul9jy-XHwk",
        "colab_type": "code",
        "colab": {}
      },
      "source": [
        "class CategoricalTransformer(BaseEstimator, TransformerMixin):\n",
        "\n",
        "    def __init__(self, cat_cols=None, drop_original: bool = False, encoder=OrdinalEncoder()):\n",
        "        \"\"\"\n",
        "        Categorical transformer. This is a wrapper for categorical encoders.\n",
        "\n",
        "        :param cat_cols:\n",
        "        :param drop_original:\n",
        "        :param encoder:\n",
        "        \"\"\"\n",
        "        self.cat_cols = cat_cols\n",
        "        self.drop_original = drop_original\n",
        "        self.encoder = encoder\n",
        "        self.default_encoder = OrdinalEncoder()\n",
        "\n",
        "    def fit(self, X, y=None):\n",
        "\n",
        "        if self.cat_cols is None:\n",
        "            kinds = np.array([dt.kind for dt in X.dtypes])\n",
        "            is_cat = kinds == 'O'\n",
        "            self.cat_cols = list(X.columns[is_cat])\n",
        "        self.encoder.set_params(cols=self.cat_cols)\n",
        "        self.default_encoder.set_params(cols=self.cat_cols)\n",
        "\n",
        "        self.encoder.fit(X[self.cat_cols], y)\n",
        "        self.default_encoder.fit(X[self.cat_cols], y)\n",
        "\n",
        "        return self\n",
        "\n",
        "    def transform(self, X, y=None):\n",
        "        data = copy.deepcopy(X)\n",
        "        new_cat_names = [f'{col}_encoded' for col in self.cat_cols]\n",
        "        encoded_data = self.encoder.transform(data[self.cat_cols])\n",
        "        if encoded_data.shape[1] == len(self.cat_cols):\n",
        "            data[new_cat_names] = encoded_data\n",
        "        else:\n",
        "            pass\n",
        "\n",
        "        if self.drop_original:\n",
        "            data = data.drop(self.cat_cols, axis=1)\n",
        "        else:\n",
        "            data[self.cat_cols] = self.default_encoder.transform(data[self.cat_cols])\n",
        "\n",
        "        return data\n",
        "\n",
        "    def fit_transform(self, X, y=None, **fit_params):\n",
        "        data = copy.deepcopy(X)\n",
        "        self.fit(data)\n",
        "        return self.transform(data)"
      ],
      "execution_count": 0,
      "outputs": []
    },
    {
      "cell_type": "code",
      "metadata": {
        "id": "x1XSAE1GXMr1",
        "colab_type": "code",
        "colab": {}
      },
      "source": [
        "class FeatureTransformer(BaseEstimator, TransformerMixin):\n",
        "\n",
        "    def __init__(self, main_cat_features: list = None, num_cols: list = None):\n",
        "        \"\"\"\n",
        "\n",
        "        :param main_cat_features:\n",
        "        :param num_cols:\n",
        "        \"\"\"\n",
        "        self.main_cat_features = main_cat_features\n",
        "        self.num_cols = num_cols\n",
        "\n",
        "    def fit(self, X, y=None):\n",
        "\n",
        "        self.num_cols = [col for col in X.columns if 'sum' in col or 'mean' in col or 'max' in col or 'std' in col\n",
        "                         or 'attempt' in col]\n",
        "\n",
        "        return self\n",
        "\n",
        "    def transform(self, X, y=None):\n",
        "        data = copy.deepcopy(X)\n",
        "#         for col in self.num_cols:\n",
        "#             data[f'{col}_to_mean'] = data[col] / data.groupby('installation_id')[col].transform('mean')\n",
        "#             data[f'{col}_to_std'] = data[col] / data.groupby('installation_id')[col].transform('std')\n",
        "\n",
        "        return data\n",
        "\n",
        "    def fit_transform(self, X, y=None, **fit_params):\n",
        "        data = copy.deepcopy(X)\n",
        "        self.fit(data)\n",
        "        return self.transform(data)"
      ],
      "execution_count": 0,
      "outputs": []
    },
    {
      "cell_type": "code",
      "metadata": {
        "id": "mXgLz20kXPdu",
        "colab_type": "code",
        "colab": {}
      },
      "source": [
        "cat_cols = ['world']\n",
        "mt = MainTransformer(create_interactions=False)\n",
        "ct = CategoricalTransformer(drop_original=True, cat_cols=cat_cols)\n",
        "ft = FeatureTransformer()\n",
        "transformers = {'ft': ft, 'ct': ct}"
      ],
      "execution_count": 0,
      "outputs": []
    },
    {
      "cell_type": "code",
      "metadata": {
        "id": "_OrcE90EZ5rS",
        "colab_type": "code",
        "colab": {}
      },
      "source": [
        "data = add_datepart(data, 'timestamp', drop=False)"
      ],
      "execution_count": 0,
      "outputs": []
    },
    {
      "cell_type": "code",
      "metadata": {
        "id": "Ch3C66-IZqXI",
        "colab_type": "code",
        "colab": {
          "base_uri": "https://localhost:8080/",
          "height": 34
        },
        "outputId": "ea7840f3-f021-4453-f2ba-54f4d0cb777e"
      },
      "source": [
        "data = reduce_mem_usage(data)"
      ],
      "execution_count": 45,
      "outputs": [
        {
          "output_type": "stream",
          "text": [
            "Mem. usage decreased to  3.09 Mb (70.7% reduction)\n"
          ],
          "name": "stdout"
        }
      ]
    },
    {
      "cell_type": "code",
      "metadata": {
        "id": "0mKFNxAIXXzO",
        "colab_type": "code",
        "colab": {}
      },
      "source": [
        "y = data['accuracy_group']"
      ],
      "execution_count": 0,
      "outputs": []
    },
    {
      "cell_type": "code",
      "metadata": {
        "id": "LX1HXUMvZwf-",
        "colab_type": "code",
        "colab": {}
      },
      "source": [
        "xgb_params = {\n",
        "        'colsample_bytree': 0.8,\n",
        "        'learning_rate': 0.05,\n",
        "        'max_depth': 7,\n",
        "        'subsample': 1,\n",
        "        'objective':'multi:softprob',\n",
        "        'num_class':4,\n",
        "        'eval_metric':'merror',\n",
        "        'min_child_weight':10,\n",
        "        'gamma':0.25,\n",
        "        'n_estimators':500,\n",
        "        'nthread': 6,\n",
        "        'verbose': 1000,\n",
        "        'early_stopping_rounds': 100,\n",
        "    }\n",
        "\n",
        "n_fold = 5\n",
        "\n",
        "folds = GroupKFold(n_splits=n_fold)"
      ],
      "execution_count": 0,
      "outputs": []
    },
    {
      "cell_type": "code",
      "metadata": {
        "id": "LlbDyPn0aY3r",
        "colab_type": "code",
        "colab": {
          "base_uri": "https://localhost:8080/",
          "height": 69
        },
        "outputId": "22d18da5-d3a1-46df-e6d3-1a3bb7fe2e35"
      },
      "source": [
        "# getting constant columns\n",
        "bad_cols = []\n",
        "for col in data:\n",
        "    if data[col].nunique() <= 1:\n",
        "        print(col)\n",
        "        bad_cols.append(col)\n",
        "\n",
        "\n",
        "cols_to_drop = ['game_session', 'installation_id', 'timestamp', 'accuracy_group', 'timestampDate'] + bad_cols\n",
        "\n",
        "data.columns = [str(col) for col in data.columns]"
      ],
      "execution_count": 52,
      "outputs": [
        {
          "output_type": "stream",
          "text": [
            "title_mean_duration\n",
            "title_mean_duration_all\n",
            "timestampYear\n"
          ],
          "name": "stdout"
        }
      ]
    },
    {
      "cell_type": "code",
      "metadata": {
        "id": "Po6S2n5lbGHr",
        "colab_type": "code",
        "colab": {}
      },
      "source": [
        "import time\n",
        "from numba import jit\n",
        "\n",
        "from sklearn.metrics import classification_report, confusion_matrix\n",
        "import warnings\n",
        "warnings.filterwarnings(\"ignore\")"
      ],
      "execution_count": 0,
      "outputs": []
    },
    {
      "cell_type": "code",
      "metadata": {
        "id": "CkHoc5QIbJbh",
        "colab_type": "code",
        "colab": {}
      },
      "source": [
        "@jit\n",
        "def qwk(a1, a2):\n",
        "    \"\"\"\n",
        "    Source: https://www.kaggle.com/c/data-science-bowl-2019/discussion/114133#latest-660168\n",
        "\n",
        "    :param a1:\n",
        "    :param a2:\n",
        "    :param max_rat:\n",
        "    :return:\n",
        "    \"\"\"\n",
        "    max_rat = 3\n",
        "    a1 = np.asarray(a1, dtype=int)\n",
        "    a2 = np.asarray(a2, dtype=int)\n",
        "\n",
        "    hist1 = np.zeros((max_rat + 1, ))\n",
        "    hist2 = np.zeros((max_rat + 1, ))\n",
        "\n",
        "    o = 0\n",
        "    for k in range(a1.shape[0]):\n",
        "        i, j = a1[k], a2[k]\n",
        "        hist1[i] += 1\n",
        "        hist2[j] += 1\n",
        "        o +=  (i - j) * (i - j)\n",
        "\n",
        "    e = 0\n",
        "    for i in range(max_rat + 1):\n",
        "        for j in range(max_rat + 1):\n",
        "            e += hist1[i] * hist2[j] * (i - j) * (i - j)\n",
        "\n",
        "    e = e / a1.shape[0]\n",
        "\n",
        "    return 1 - o / e\n"
      ],
      "execution_count": 0,
      "outputs": []
    },
    {
      "cell_type": "code",
      "metadata": {
        "id": "mwiGp1HBbPiZ",
        "colab_type": "code",
        "colab": {}
      },
      "source": [
        "def eval_qwk_xgb(y_pred, y_true):\n",
        "    \"\"\"\n",
        "    Fast cappa eval function for xgb.\n",
        "    \"\"\"\n",
        "    # print('y_true', y_true)\n",
        "    # print('y_pred', y_pred)\n",
        "    y_true = y_true.get_label()\n",
        "    y_pred = y_pred.argmax(axis=1)\n",
        "    return 'cappa', -qwk(y_true, y_pred)"
      ],
      "execution_count": 0,
      "outputs": []
    },
    {
      "cell_type": "code",
      "metadata": {
        "id": "MDjotabRU1Ca",
        "colab_type": "code",
        "colab": {
          "base_uri": "https://localhost:8080/",
          "height": 1000
        },
        "outputId": "59038b19-5a56-4712-f9b3-dc7903d196d8"
      },
      "source": [
        "xgb_model = ClassifierModel(model_wrapper=XGBWrapper())\n",
        "xgb_model.fit(X=data, y=y, folds=folds, params=xgb_params, preprocesser=mt, transformers=transformers,\n",
        "              eval_metric='cappa', cols_to_drop=cols_to_drop)"
      ],
      "execution_count": 60,
      "outputs": [
        {
          "output_type": "stream",
          "text": [
            "Fold 1 started at Sat Nov 30 03:51:33 2019\n",
            "[0]\tvalidation_0-merror:0.362988\tvalidation_1-merror:0.393725\tvalidation_0-cappa:-0.533278\tvalidation_1-cappa:-0.490647\n",
            "Multiple eval metrics have been passed: 'validation_1-cappa' will be used for early stopping.\n",
            "\n",
            "Will train until validation_1-cappa hasn't improved in 100 rounds.\n",
            "Stopping. Best iteration:\n",
            "[44]\tvalidation_0-merror:0.322216\tvalidation_1-merror:0.372244\tvalidation_0-cappa:-0.603088\tvalidation_1-cappa:-0.545849\n",
            "\n",
            "Fold 2 started at Sat Nov 30 03:52:09 2019\n",
            "[0]\tvalidation_0-merror:0.362705\tvalidation_1-merror:0.398813\tvalidation_0-cappa:-0.54168\tvalidation_1-cappa:-0.46231\n",
            "Multiple eval metrics have been passed: 'validation_1-cappa' will be used for early stopping.\n",
            "\n",
            "Will train until validation_1-cappa hasn't improved in 100 rounds.\n",
            "Stopping. Best iteration:\n",
            "[331]\tvalidation_0-merror:0.157363\tvalidation_1-merror:0.366591\tvalidation_0-cappa:-0.813715\tvalidation_1-cappa:-0.546389\n",
            "\n",
            "Fold 3 started at Sat Nov 30 03:53:46 2019\n",
            "[0]\tvalidation_0-merror:0.363129\tvalidation_1-merror:0.396834\tvalidation_0-cappa:-0.538949\tvalidation_1-cappa:-0.475428\n",
            "Multiple eval metrics have been passed: 'validation_1-cappa' will be used for early stopping.\n",
            "\n",
            "Will train until validation_1-cappa hasn't improved in 100 rounds.\n",
            "Stopping. Best iteration:\n",
            "[96]\tvalidation_0-merror:0.289288\tvalidation_1-merror:0.380441\tvalidation_0-cappa:-0.658792\tvalidation_1-cappa:-0.514712\n",
            "\n",
            "Fold 4 started at Sat Nov 30 03:54:32 2019\n",
            "[0]\tvalidation_0-merror:0.358465\tvalidation_1-merror:0.420011\tvalidation_0-cappa:-0.548119\tvalidation_1-cappa:-0.455925\n",
            "Multiple eval metrics have been passed: 'validation_1-cappa' will be used for early stopping.\n",
            "\n",
            "Will train until validation_1-cappa hasn't improved in 100 rounds.\n",
            "Stopping. Best iteration:\n",
            "[92]\tvalidation_0-merror:0.283423\tvalidation_1-merror:0.390334\tvalidation_0-cappa:-0.662301\tvalidation_1-cappa:-0.513959\n",
            "\n",
            "Fold 5 started at Sat Nov 30 03:55:18 2019\n",
            "[0]\tvalidation_0-merror:0.358536\tvalidation_1-merror:0.404466\tvalidation_0-cappa:-0.538638\tvalidation_1-cappa:-0.459054\n",
            "Multiple eval metrics have been passed: 'validation_1-cappa' will be used for early stopping.\n",
            "\n",
            "Will train until validation_1-cappa hasn't improved in 100 rounds.\n",
            "Stopping. Best iteration:\n",
            "[76]\tvalidation_0-merror:0.29593\tvalidation_1-merror:0.394573\tvalidation_0-cappa:-0.649494\tvalidation_1-cappa:-0.484981\n",
            "\n",
            "\n",
            "CV mean score on validation_0: 0.7538 +/- 0.0542 std.\n",
            "CV mean score on validation_1: 0.5108 +/- 0.0206 std.\n",
            "              precision    recall  f1-score   support\n",
            "\n",
            "           0       0.62      0.61      0.61      4229\n",
            "           1       0.36      0.15      0.21      2411\n",
            "           2       0.16      0.00      0.01      2205\n",
            "           3       0.64      0.90      0.75      8845\n",
            "\n",
            "    accuracy                           0.62     17690\n",
            "   macro avg       0.44      0.42      0.40     17690\n",
            "weighted avg       0.54      0.62      0.55     17690\n",
            "\n"
          ],
          "name": "stdout"
        },
        {
          "output_type": "display_data",
          "data": {
            "image/png": "[encoded data removed]",
            "text/plain": [
              "<Figure size 1152x864 with 5 Axes>"
            ]
          },
          "metadata": {
            "tags": []
          }
        }
      ]
    },
    {
      "cell_type": "code",
      "metadata": {
        "id": "Q-b_Cui4bhM6",
        "colab_type": "code",
        "colab": {
          "base_uri": "https://localhost:8080/",
          "height": 51
        },
        "outputId": "a03a132d-d4d9-40a1-bcd1-6ba17e1b423e"
      },
      "source": [
        "%%time\n",
        "fg = FeatureGenerator(n_jobs=2, df=test_df, dataset='test')\n",
        "test_data = fg.generate()\n",
        "test_data.columns = [str(col) for col in test_data.columns]\n",
        "test_data = test_data.fillna(0)\n",
        "test_data = add_datepart(test_data, 'timestamp', drop=False)"
      ],
      "execution_count": 61,
      "outputs": [
        {
          "output_type": "stream",
          "text": [
            "CPU times: user 1min 56s, sys: 7.62 s, total: 2min 4s\n",
            "Wall time: 1min 53s\n"
          ],
          "name": "stdout"
        }
      ]
    },
    {
      "cell_type": "code",
      "metadata": {
        "id": "VnQN5gGMbobi",
        "colab_type": "code",
        "colab": {}
      },
      "source": [
        ""
      ],
      "execution_count": 0,
      "outputs": []
    },
    {
      "cell_type": "code",
      "metadata": {
        "id": "GuYPtZ14UINf",
        "colab_type": "code",
        "colab": {}
      },
      "source": [
        "prediction = xgb_model.predict(test_data)"
      ],
      "execution_count": 0,
      "outputs": []
    },
    {
      "cell_type": "code",
      "metadata": {
        "id": "da-1DxzTUXc0",
        "colab_type": "code",
        "colab": {}
      },
      "source": [
        "sample_submission_df['accuracy_group'] = prediction.argmax(1)\n",
        "sample_submission_df.to_csv('submission.csv', index=False)"
      ],
      "execution_count": 0,
      "outputs": []
    }
  ]
}